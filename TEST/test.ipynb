{
 "cells": [
  {
   "cell_type": "code",
   "execution_count": 2,
   "metadata": {},
   "outputs": [],
   "source": [
    "import os"
   ]
  },
  {
   "cell_type": "code",
   "execution_count": 3,
   "metadata": {},
   "outputs": [],
   "source": [
    "OPENAI_API_KEY = ''\n",
    "os.environ['OPENAI_API_KEY'] = OPENAI_API_KEY"
   ]
  },
  {
   "cell_type": "code",
   "execution_count": 4,
   "metadata": {},
   "outputs": [],
   "source": [
    "from langchain_community.vectorstores import Chroma\n",
    "NOMBRE_INDICE_CHROMA = \"../databases/embeddings-public\""
   ]
  },
  {
   "cell_type": "code",
   "execution_count": 5,
   "metadata": {},
   "outputs": [
    {
     "name": "stderr",
     "output_type": "stream",
     "text": [
      "/home/egarces/chatbot/env/lib/python3.10/site-packages/tqdm/auto.py:21: TqdmWarning: IProgress not found. Please update jupyter and ipywidgets. See https://ipywidgets.readthedocs.io/en/stable/user_install.html\n",
      "  from .autonotebook import tqdm as notebook_tqdm\n"
     ]
    }
   ],
   "source": [
    "from langchain_community.embeddings import SentenceTransformerEmbeddings\n",
    "\n",
    "embeddings_st = SentenceTransformerEmbeddings(\n",
    "    model_name=\"sentence-transformers/paraphrase-multilingual-MiniLM-L12-v2\"\n",
    ")\n",
    "\n",
    "# Otro modelo en español que podríamos usar es \"symanto/sn-xlm-roberta-base-snli-mnli-anli-xnli\""
   ]
  },
  {
   "cell_type": "code",
   "execution_count": null,
   "metadata": {},
   "outputs": [],
   "source": []
  },
  {
   "cell_type": "code",
   "execution_count": 6,
   "metadata": {},
   "outputs": [],
   "source": [
    "vectorstore_chroma = Chroma(\n",
    "    persist_directory=NOMBRE_INDICE_CHROMA,\n",
    "    embedding_function=embeddings_st\n",
    ")"
   ]
  },
  {
   "cell_type": "code",
   "execution_count": 14,
   "metadata": {},
   "outputs": [
    {
     "name": "stdout",
     "output_type": "stream",
     "text": [
      "<langchain_community.vectorstores.chroma.Chroma object at 0x7f84900c3010>\n"
     ]
    }
   ],
   "source": [
    "print(vectorstore_chroma)"
   ]
  },
  {
   "cell_type": "code",
   "execution_count": 15,
   "metadata": {},
   "outputs": [
    {
     "data": {
      "text/plain": [
       "[(Document(page_content='(BETA): Nuevo tipo de reportes PIVOT , para configurarlos deje el parámetro UseNewPivotReportVersion en true, y las demás configuraciones habituales en las tablas defaultreport (Por ahora solo es posible mostrar la data, Expórtala a Excel y generar graficas de barra) Pruebas y aplicabilidad. Todas las apps.', metadata={'source': 110816}),\n",
       "  5.054394721984863),\n",
       " (Document(page_content='Es posible que en reportes tipo PIVOT se pueda configurar de tal forma que se puedan abrir los elementos de forma directa, en el último nivel de detalle', metadata={'source': 33608}),\n",
       "  7.683204174041748),\n",
       " (Document(page_content='Se ajustaron los estilos del nuevo reporte pivot, manteniendo los estilos de sense.Pruebas y aplicabilidad. Todas las apps.', metadata={'source': 112932}),\n",
       "  8.664474487304688)]"
      ]
     },
     "execution_count": 15,
     "metadata": {},
     "output_type": "execute_result"
    }
   ],
   "source": [
    "query = \"Cual es el parametro para configurar el nuevo reporte Pivot?\"\n",
    "\n",
    "docs = vectorstore_chroma.similarity_search_with_score(query, k=3)\n",
    "docs"
   ]
  },
  {
   "cell_type": "code",
   "execution_count": 8,
   "metadata": {},
   "outputs": [],
   "source": [
    "retriever_chroma = vectorstore_chroma.as_retriever(\n",
    "    search_kwargs={'k': 3}\n",
    ")"
   ]
  },
  {
   "cell_type": "code",
   "execution_count": 9,
   "metadata": {},
   "outputs": [],
   "source": [
    "#pip install -U langchain-openai\n",
    "#from langchain.chat_models import ChatOpenAI\n",
    "from langchain_openai import ChatOpenAI\n",
    "\n",
    "llm_openIA = ChatOpenAI(\n",
    "    openai_api_key=OPENAI_API_KEY,\n",
    "    model_name='gpt-3.5-turbo',\n",
    "    temperature=0.0\n",
    ")"
   ]
  },
  {
   "cell_type": "code",
   "execution_count": 10,
   "metadata": {},
   "outputs": [],
   "source": [
    "from langchain.chains import RetrievalQAWithSourcesChain\n",
    "\n",
    "qa_chain_with_sources = RetrievalQAWithSourcesChain.from_chain_type(\n",
    "    llm=llm_openIA,\n",
    "    chain_type=\"stuff\",\n",
    "    retriever=retriever_chroma\n",
    ")\n"
   ]
  },
  {
   "cell_type": "code",
   "execution_count": 11,
   "metadata": {},
   "outputs": [
    {
     "data": {
      "text/plain": [
       "{'question': 'Cual es el parametro para configurar el nuevo reporte Pivot?',\n",
       " 'answer': 'El parámetro para configurar el nuevo reporte Pivot es UseNewPivotReportVersion en true.\\n',\n",
       " 'sources': '110816'}"
      ]
     },
     "execution_count": 11,
     "metadata": {},
     "output_type": "execute_result"
    }
   ],
   "source": [
    "query = \"Cual es el parametro para configurar el nuevo reporte Pivot?\"\n",
    "respuesta = qa_chain_with_sources.invoke(query)\n",
    "respuesta"
   ]
  },
  {
   "cell_type": "code",
   "execution_count": 12,
   "metadata": {},
   "outputs": [],
   "source": [
    "from langchain.chains import RetrievalQAWithSourcesChain, ConversationalRetrievalChain, RetrievalQA    \n",
    "qa_chain = RetrievalQA.from_chain_type(\n",
    "        llm=llm_openIA, chain_type=\"stuff\", retriever=retriever_chroma\n",
    "    )\n"
   ]
  },
  {
   "cell_type": "code",
   "execution_count": 15,
   "metadata": {},
   "outputs": [
    {
     "data": {
      "text/plain": [
       "VectorStoreRetriever(tags=['Chroma', 'HuggingFaceEmbeddings'], vectorstore=<langchain_community.vectorstores.chroma.Chroma object at 0x7fa9b0825c30>, search_kwargs={'k': 3})"
      ]
     },
     "execution_count": 15,
     "metadata": {},
     "output_type": "execute_result"
    }
   ],
   "source": [
    "retriever_chroma"
   ]
  },
  {
   "cell_type": "code",
   "execution_count": 13,
   "metadata": {},
   "outputs": [
    {
     "data": {
      "text/plain": [
       "{'query': 'Cual es el parametro para configurar el nuevo reporte Pivot?',\n",
       " 'result': 'El parámetro para configurar el nuevo reporte Pivot es \"UseNewPivotReportVersion\" y debe establecerse en true.'}"
      ]
     },
     "execution_count": 13,
     "metadata": {},
     "output_type": "execute_result"
    }
   ],
   "source": [
    "query = \"Cual es el parametro para configurar el nuevo reporte Pivot?\"\n",
    "respuesta = qa_chain.invoke(query)\n",
    "respuesta"
   ]
  },
  {
   "cell_type": "code",
   "execution_count": 17,
   "metadata": {},
   "outputs": [
    {
     "ename": "AttributeError",
     "evalue": "'VectorStoreRetriever' object has no attribute 'search'",
     "output_type": "error",
     "traceback": [
      "\u001b[0;31m---------------------------------------------------------------------------\u001b[0m",
      "\u001b[0;31mAttributeError\u001b[0m                            Traceback (most recent call last)",
      "Cell \u001b[0;32mIn[17], line 2\u001b[0m\n\u001b[1;32m      1\u001b[0m query \u001b[38;5;241m=\u001b[39m \u001b[38;5;124m\"\u001b[39m\u001b[38;5;124m¿Cuál es el río más largo del mundo?\u001b[39m\u001b[38;5;124m\"\u001b[39m\n\u001b[0;32m----> 2\u001b[0m results \u001b[38;5;241m=\u001b[39m \u001b[43mretriever_chroma\u001b[49m\u001b[38;5;241;43m.\u001b[39;49m\u001b[43msearch\u001b[49m(query)\n\u001b[1;32m      3\u001b[0m results\n",
      "\u001b[0;31mAttributeError\u001b[0m: 'VectorStoreRetriever' object has no attribute 'search'"
     ]
    }
   ],
   "source": [
    "query = \"¿Cuál es el río más largo del mundo?\"\n",
    "results = retriever_chroma.search(query)\n",
    "results"
   ]
  }
 ],
 "metadata": {
  "kernelspec": {
   "display_name": "env",
   "language": "python",
   "name": "python3"
  },
  "language_info": {
   "codemirror_mode": {
    "name": "ipython",
    "version": 3
   },
   "file_extension": ".py",
   "mimetype": "text/x-python",
   "name": "python",
   "nbconvert_exporter": "python",
   "pygments_lexer": "ipython3",
   "version": "3.10.12"
  }
 },
 "nbformat": 4,
 "nbformat_minor": 2
}
