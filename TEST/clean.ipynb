{
 "cells": [
  {
   "cell_type": "code",
   "execution_count": 20,
   "metadata": {},
   "outputs": [],
   "source": [
    "import pandas as pd\n",
    "import unicodedata\n"
   ]
  },
  {
   "cell_type": "code",
   "execution_count": 21,
   "metadata": {},
   "outputs": [
    {
     "data": {
      "text/html": [
       "<div>\n",
       "<style scoped>\n",
       "    .dataframe tbody tr th:only-of-type {\n",
       "        vertical-align: middle;\n",
       "    }\n",
       "\n",
       "    .dataframe tbody tr th {\n",
       "        vertical-align: top;\n",
       "    }\n",
       "\n",
       "    .dataframe thead th {\n",
       "        text-align: right;\n",
       "    }\n",
       "</style>\n",
       "<table border=\"1\" class=\"dataframe\">\n",
       "  <thead>\n",
       "    <tr style=\"text-align: right;\">\n",
       "      <th></th>\n",
       "      <th>ElementId</th>\n",
       "      <th>Value</th>\n",
       "    </tr>\n",
       "  </thead>\n",
       "  <tbody>\n",
       "    <tr>\n",
       "      <th>0</th>\n",
       "      <td>122430</td>\n",
       "      <td>Video: https://youtu.be/z-IwPw5gwD8 Fecha máxi...</td>\n",
       "    </tr>\n",
       "    <tr>\n",
       "      <th>1</th>\n",
       "      <td>69562</td>\n",
       "      <td>1. NEW. Se habilitó el Log para registrar las ...</td>\n",
       "    </tr>\n",
       "    <tr>\n",
       "      <th>2</th>\n",
       "      <td>106534</td>\n",
       "      <td>29.6-FIX-01: Se realizó un ajuste en el mecani...</td>\n",
       "    </tr>\n",
       "    <tr>\n",
       "      <th>3</th>\n",
       "      <td>52821</td>\n",
       "      <td>1. New: Se implementó el sistema de autenticac...</td>\n",
       "    </tr>\n",
       "    <tr>\n",
       "      <th>4</th>\n",
       "      <td>110816</td>\n",
       "      <td>30.0-FIX-01: (HRP) Se realizaron varios ajuste...</td>\n",
       "    </tr>\n",
       "    <tr>\n",
       "      <th>...</th>\n",
       "      <td>...</td>\n",
       "      <td>...</td>\n",
       "    </tr>\n",
       "    <tr>\n",
       "      <th>146</th>\n",
       "      <td>96955</td>\n",
       "      <td>R29.1-FIX-01: FIX. (EG) Se corrigió el problem...</td>\n",
       "    </tr>\n",
       "    <tr>\n",
       "      <th>147</th>\n",
       "      <td>97580</td>\n",
       "      <td>R29.2-FT-01: NEW.  Se reescribió todo el mecan...</td>\n",
       "    </tr>\n",
       "    <tr>\n",
       "      <th>148</th>\n",
       "      <td>98276</td>\n",
       "      <td>R29.3-FT-01: NEW. Se creó un mecanismo para cu...</td>\n",
       "    </tr>\n",
       "    <tr>\n",
       "      <th>149</th>\n",
       "      <td>115966</td>\n",
       "      <td>Video:    30.2-FT-01. (HR) Ahora es posible ut...</td>\n",
       "    </tr>\n",
       "    <tr>\n",
       "      <th>150</th>\n",
       "      <td>108410</td>\n",
       "      <td>29.7-FT-01: (EG): Sincronización de cargos y o...</td>\n",
       "    </tr>\n",
       "  </tbody>\n",
       "</table>\n",
       "<p>151 rows × 2 columns</p>\n",
       "</div>"
      ],
      "text/plain": [
       "     ElementId                                              Value\n",
       "0       122430  Video: https://youtu.be/z-IwPw5gwD8 Fecha máxi...\n",
       "1        69562  1. NEW. Se habilitó el Log para registrar las ...\n",
       "2       106534  29.6-FIX-01: Se realizó un ajuste en el mecani...\n",
       "3        52821  1. New: Se implementó el sistema de autenticac...\n",
       "4       110816  30.0-FIX-01: (HRP) Se realizaron varios ajuste...\n",
       "..         ...                                                ...\n",
       "146      96955  R29.1-FIX-01: FIX. (EG) Se corrigió el problem...\n",
       "147      97580  R29.2-FT-01: NEW.  Se reescribió todo el mecan...\n",
       "148      98276  R29.3-FT-01: NEW. Se creó un mecanismo para cu...\n",
       "149     115966  Video:    30.2-FT-01. (HR) Ahora es posible ut...\n",
       "150     108410  29.7-FT-01: (EG): Sincronización de cargos y o...\n",
       "\n",
       "[151 rows x 2 columns]"
      ]
     },
     "execution_count": 21,
     "metadata": {},
     "output_type": "execute_result"
    }
   ],
   "source": [
    "df = pd.read_csv('../data/data.csv', encoding='utf-8')\n",
    "df"
   ]
  },
  {
   "cell_type": "code",
   "execution_count": 22,
   "metadata": {},
   "outputs": [],
   "source": [
    "df['Value'] = df['Value'].str.replace('\\xa0', ' ')"
   ]
  },
  {
   "cell_type": "code",
   "execution_count": null,
   "metadata": {},
   "outputs": [],
   "source": [
    "import pandas as pd\n",
    "import re\n",
    "\n",
    "def split_text_by_regex(row):\n",
    "    # Usar una expresión regular para dividir el texto por saltos de línea o cualquier otro patrón deseado\n",
    "    # \\s* captura cualquier cantidad de espacios en blanco (incluidos los saltos de línea) alrededor del separador\n",
    "    # Puedes ajustar la expresión regular según tus necesidades\n",
    "    fragments = re.split(r'\\n\\s*\\n', row['Texto'], flags=re.IGNORECASE)\n",
    "    # Filtrar líneas vacías o con solo espacios, y quitar espacios adicionales\n",
    "    fragments = [line.strip() for line in fragments if line.strip()]\n",
    "    row['Texto'] = fragments\n",
    "    return row\n",
    "\n",
    "\n"
   ]
  },
  {
   "cell_type": "code",
   "execution_count": null,
   "metadata": {},
   "outputs": [],
   "source": [
    "# Aplicar la función y expandir el DataFrame\n",
    "df = df.apply(split_text_by_regex, axis=1)\n",
    "df = df.explode('Value').reset_index(drop=True)\n",
    "df"
   ]
  },
  {
   "cell_type": "code",
   "execution_count": 4,
   "metadata": {},
   "outputs": [],
   "source": [
    "from langchain.document_loaders import DataFrameLoader\n",
    "\n",
    "loader = DataFrameLoader(df, page_content_column=\"Value\")\n",
    "data = loader.load()"
   ]
  },
  {
   "cell_type": "code",
   "execution_count": 5,
   "metadata": {},
   "outputs": [
    {
     "name": "stdout",
     "output_type": "stream",
     "text": [
      "[Document(page_content='Video: https://youtu.be/z-IwPw5gwD8 Fecha máxima para comentarios y correcciones: Marzo 21, 2024   30.4-FIX-01 (CG)  Ajustado error cuando se usaban suggest en el filtro no traía resultadosPruebas y aplicabilidad: Makro y dónde aplique, se debe probar que al usar en el filtro campos suggest, este retorne los resultados que corresponden al filtro aplicado. 30.4-FIX-02 (CG)  Ajustado la funcionalidad del parametro VersionChangesMetaDataIdPruebas y aplicabilidad: Ebsa y dónde aplique. 30.4-FIX-03 (CG) Ajustado error que se presentaba al enviar las notificaciones para responder encuestas (SURVEYS II). Anteriormente, existía un límite de 12 horas para abrir la encuesta a través del enlace enviado por correo electrónico, después del límite se generaba un error. Pruebas y aplicabilidad: Seguros Mundial. Probar generando encuentas y poder usar el link para responderla despues de doce horas. 30.4-FT-01 (CG) Se ha implementado una nueva funcionalidad que permite definir un límite máximo de días entre las fechas seleccionadas para exportar la información de un Tipo de Elemento (ET). Para utilizar esta característica, se debe configurar el feature \\'LimitOfDaysBetweenExportDatesForET\\' por Tipo de Elemento, especificando la cantidad de días máxima permitida.Pruebas y aplicabilidad: Cafam, se debe validar que, cuando se configure el feature, no permita exportar cuando la diferencia de días calendario entre las fechas de inicio y fin en el filtro sea mayor a los configurados o incluso si no se define una fecha en el filtro devuelva un mensaje indicando el motivo por el cual no puede hacer la exportación. 30.4-FIX-04 (CG) Se corrigió un error en las nuevas jerarquías externas 30.2-FT-07 que al avanzar de estado un elemento los campos que tienen esta característica, si, no estaban diligenciados dejaba avanzar en el flujo.Pruebas y aplicabilidad: Cafam. Validar que al intentar avanzar de estado si existe alguna Metadata que no esté diligenciada la solicite antes de continuar y que si la jerarquía configurada en el campo no devuelve resultados no lo solicite y permita avanzar. 30.4-FT-02 (CG) Ahora en la agenda de pendientes del administrador al reasignar una o mas tareas podemos indicar que támbien actualice el responsable en una metadata Infotext, para esto configure el feature InfoTextOnUpdateResposibleMetaDataId por ElementType siendo un registro por MetaDataId.Pruebas y aplicabilidad: Cafam. Probar que al reasignar una tarea los campos infotext configurados para actualizarce, mantenga la misma forma, ejemplo si en EMDV solo guarda el id \\'1529|\\' o si guarda el id mas el nombre \\'1529|Jhon Doe\\', conserve la misma forma. 30.4-FIX-05 (CG)  Al momento de crear un elemento permitía subir un anexo que en el nombre tenía caracteres especiales y guardar el elemento, pero despues al editarlo saltaba la advertencia de que había una secuencia de caracateres potencialmente peligrosa. Pruebas y aplicabilidad: Opain. Se debe probar al momento de crear un elemento, subir anexos dónde el nombre contenga caracteres especiales y luego poder editar el elemento sin que genere esta alerta. 30.4-FIX-06 (CG)  se creo el parametro UseETMDWFTransitionSettingsInCalculated que debe estar en true para cuando se realicen calculados desde configurationHub, use la configuración de la tabla ETMDWFTransition.Pruebas y aplicabilidad: Donde aplique. Validar que se actualicen los responsables y fechas que bajan al flujo de forma adecuada, y cuando el parametro esta en false no use esta configuración. 30.4-FT-03 (CG) En la Base de datos de desarrollo está el sp Custom_BalanceoDeCargas para usar balanceo de cargas simple en un infotext. Su función es a un grupo de usuarios validar la cantidad de tareas que tienen en un estado especifico, y devuelve el id del usuario que menos tareas tenga asignadas.los parametros que usa el infotext, son los siguientes: @UsersOrActionGroup varchar(max) /*Si hay mas de uno deben ir separados por una coma*/@IsActionGroup BIT /*Es 1 si los datos ingresados en @UsersOrActionGroup son ActionGroupIds de lo contrario 0*/@WorkFlowStateId INT /*Aquí va el estado por el cual se va a filtrar las tareas de cada usuario (De momento solo va uno)*/@IgnoreMaximumTask BIT *Indica si no hay límite de tareas por usuario, por defecto 0*/@CurrentStatesIds varchar(max) /*Indica los posibles estados en los que se encuentran los elementos a validar*/@UseGenericUser BIT /*Usese esta variable para indicar si se debe usar un usuario genérico si los usuarios ingresados tienen mas tareas de lo permitido, por defecto 0*/@GenericUser int /*Teniendo en cuenta el parametro @UseGenericUser ingresar aquí el usuario generico, por defecto 0*/ Pruebas y aplicabilidad: Dónde aplique. Validar que el Id del usuario que retorne sea realmenete el usuario con menos tareas.   30.4-FT-04: (HR). Se implementó el mecanismo de Recaptcha para la página de autenticación. Este mecanismo evita la repetición de contraseñas de manera continua y disminuye el riegos de intrusión por fuerza bruta. Recuerde que debe configurar los parámetros ReCaptchaClientCode y ReCaptchaServerCode. Solo en ambientes donde no hay salida a internet (en browser cliente), en modo on-premise, puede establecer los parámetros DisableLoginCaptcha (deshabilitar el recaptcha de Login) y DisablePasswordForgottenCaptcha (deshabilitar el recaptcha de “Olvidé mi contraseña”) en true. Pruebas y aplicabilidad: Todas las aplicaciones. Verificar que la recaptcha funciona de forma correcta y se requiere para entrar a la aplicación y para solicitar la restauración de contraseña.   30.4-FT-05: (HR). Se creó un mecanismo para mantener en Cache de aplicación, el valor de campos InfoText que no cambien una vez calculados la primera vez (por ejemplo, valores que sean constantes después del primer guardado). Esto acelera el render tanto del Readonly como el EDIT, al no tener que ejecutar una y otra vez la misma consulta. Para esto, establezca por Metadata el feature UseAppCachedValues. Pruebas y aplicabilidad: CAFAM. Establecer el feature para los campos infotext de uso frecuente, según se evidencie con el SQL Profiler/Data Studio Profiler. Se debe verificar que el valor siempre se observe igual luego del primer guardado.   30.4-FIX-07: (HR). Se solucionó un error que impedía remover el filtro de consulta en los listados SENSE cuando no se encuentran resultados. Pruebas y aplicabilidad: Todas las aplicaciones, listados generales y por Tipo de Elemento.   30.4-FT-06: (HR). Ahora es posible ejecutar las tablas de cache de manera asincrónica, sin que bloqueen la ejecución de la página u ocsaionen Timeout. Cuando se ejecuta de manera asincrónica, una vez finalizado el proceso le llegará un correo a la persona que ejecutó, informando del éxito o fracaso de la operación. Pruebas y aplicabilidad: Todas las aplicaciones. Verificar la correcta ejecución de las tablas de cache, según se indica en 30.4-FT-15.   30.4-FIX-08: (HR). Se solucionó un problema de render de la página de PDF en panel, la cual no abría de manera correcta si en el titulo contenía una comilla sencilla. Pruebas y aplicabilidad: aplicaciones que utilicen la funcionalidad de PDF en panel. Incluir diferentes caracteres en el título.   30.4-FIX-09: (HR). Se ajustó el mecanismo para presentar valores deshabilitados en listas de selección simple (internas, externas y con herencia). Pruebas y Aplicabilidad: Todas las aplicaciones. Habilitar y deshabilitar valores en los listados y revisar su comportamiento con elementos nuevos y ya existentes.   30.4-FIX-10: (HR). Se ajustó el mecanismo de las metadatas tipo Suggest en listas internas y externas para conservar los valores guardados y efectuar de manera correcta la aplicación de la herencia interna y externa, basada en MDV.AlternativeId o en ExternalValueHierarchy. De paso se soluciona el BUG-1083. Pruebas y Aplicabilidad: Todas las aplicaciones que requieran utilizar controles tipo suggest: Se debe crear elementos con diferentes situaciones (jerarquías con padre suggest-hijo lista sencilla, padre list, hijo suggest, etc) con jerarquías internas y externas y verificar que los valores almacenados queden de manera correcta una vez se abra de nuevo el EDIT o el RO.    30.4-FT-07: (EG). Se ha desarrollado un mecanismo para facilitar la búsqueda de elementos embebidos basado en las metadatas de un elemento padre, el cual puede estar guardado en la aplicación o no. Estas búsquedas se pueden realizar utilizando metadatas de tipo texto, infotext, y listas internas y externas y están basadas en la condición de otra MetaData.  Ejemplo de la configuración del feature  Para habilitar esta función, se configura el feature llamado EmbeddedSearchViaParentMetaData,por ElementType hijo, en el que se especifican las condiciones de la siguiente manera {     \"EmbeddedMetaData\": 342, // Metadata Embebida en el Elementtype padre     \"ConditionMetaData\": [2], // MetaDatas que condiciona la busqueda     \"2\": { // Aquí creamos un objeto para la metadata que condiciona         \"3\": [  // en el cual indicamos el valor posible              \"2,3,493-644\" // e indicamos las metadatas para la búsqueda         ],          \"4\": [             \"2,3,403-644\"         ]     } } tener en cuenta. En caso de que las metadatas sean las mismas tanto para el padre como para el hijo, simplemente se indican una vez. En caso de ser diferentes, se usará el formato {mdPadre}-{mdHijo}. Por ejemplo, \\'2,3,15-30\\' es similar a la configuración de herencia de metadatas. Pruebas y aplicabilidad: CAFAM, todas las aplicaciones   30.4-FT-08: (EG). Para el consumo de API externas, es común que, por alguna razón, la información no esté completa, lo que puede resultar en errores 404 Bad Request. Para evitar esto, se ha desarrollado un mecanismo que evita la solicitud a la API en caso de que falte información indispensable. Para lograr esto, se configura el AppServiceFeature ExternalAPIPathValidator, donde se indica la ruta JsonPath del valor que sea indispensable para realizar la solicitud. Pruebas y aplicabilidad: CAFAM.    30.4-FT-09: (EG). Ahora es posible personalizar los mensajes de las transiciones, incluyendo valores de metadatas. Para lograr esto, se configura por ElemntType el feature WorkFlowTransitionMessage indicando la transición y el mensaje, así como el nombre de las metadatas entre corchetes. El formato es el siguiente: {WFT}|mensaje con [NombreMetaData]. Pruebas y aplicabilidad: CAFAM.    30.4-FT-10: (EG). Para unificar los mensajes de la aplicación, ahora se puede configurar el modo en que se muestran los mensajes de cambio de transición. Esto se puede hacer mostrando el mensaje en una ventana modal o de manera tradicional con el toast. Para habilitar la ventana modal, se configura el parámetro UseModalWindowInStateChange en true. Pruebas y aplicabilidad: CAFAM. todas las aplicaciones   30.4-FT-11: (EG). Para el consumo de API externas, ahora es posible establecer valores por defecto de las metadatas duarnte la creacion o edición de los elemetos dependiendo de la API Externa que se utilice. Para lograr esto, se configura el feature ExternalAPISourceBasedAutoPreset, por AppService, donde se indica , ElementType|MetaData|valor por defecto. En el caso de texto, se especifica el texto explícito y en el caso de una lista, se indican los ID separados por coma.   Pruebas y aplicabilidad: CAFAM. todas las aplicaciones    30.4-FT-12: (EG). Para abordar los posibles formatos no compatibles en las API Externas, se han creado los siguientes features:  ExternalAPIFormDateFormat: Este feature permite definir el formato deseado para las fechas mediante metadatas, por ejemplo, \\'dd-MM-yyyy\\'. Se utiliza para establecer la estructura deseada de fechas, considerando las convenciones de formato en C#. ExternalAPIHTMLIntegrityGuard: Este feature se encarga de mantener o no el formato HTML del origen. Permite controlar si se debe preservar el formato HTML recibido de la API externa o si se debe procesar y modificar según sea necesario.  Pruebas y aplicabilidad: CAFAM. todas las aplicaciones    30.4-FT-13: (EG). En ocasiones, es necesario crear estados del flujo que, aunque sean diferentes, representan lo mismo. Para abordar este escenario, se ha introducido el concepto de los estados isomórficos. Para configurar esta funcionalidad, se utiliza la nueva tabla WFSFeature Feature por estado. En esta tabla, se especifica para cada estado isomórfico cuál es el estado principal al que está vinculado utilizando el feature IsomorphicWorkFlowStates. Esto tiene impacto en lo que semuestra en los filtros con el listado de estados y al momento de aplicar las búsquedas por estado  Pruebas y aplicabilidad: CAFAM. todas las aplicaciones    30.4-FT-14: (EG) Los usuarios creados para el consumo de la API no pueden ser modificados. Para cambiar este comportamiento, se configura el parámetro CanEditUserAPIConsumer. Pruebas y aplicabilidad: Todas las aplicaciones    30.4-FIX-11: (EG) Debido a un error que se estaba presentando en la fusión de documentos de Word al intentar actualizar la tabla de contenido, ahora se verifica si el documento tiene o no una tabla de contenido antes de proceder con la actualización. Pruebas y aplicabilidad: Todas las aplicaciones     30.4-FIX-12 (CG)  Ajustada inconsistencia en texto que mostraba la ayuda del flujo cuando se usa la configuración de la columna “AffectedByHistory” de la tabla workFlowState y se ejecutaba una transición de devolución.Pruebas y aplicabilidad: Comware, validar que sea consistente el texto en la ayuda del flujo cuando hay devoluciones.   30.4-FIX-13 (EG)  Se realiza un ajuste a la funcionalidad de verificación de documentos de Word con el feature UseAttachmentSignature, el cual no funcionaba correctamente. Pruebas y aplicabilidad: Todas las aplicaciones    30.4-FIX-14 (EG)    El desarrollo 30.2-FT-05 proporciona una solución a la incidencia reportada.   30.4-FIX-15 (EG)   Para solucionar este bug, se desarrolló una funcionalidad de generación de AlternativeId gestionado desde la API, permitiendo su gestión desde cualquier origen. Para habilitar esta funcionalidad, configure el parámetro SetAlternativeIdViaAPI.   30.4-FT-15: (SL) Se ha implementado un nuevo mecanismo para la construcción y poblado de las tablas de caché. Para activar esta funcionalidad, el parámetro DisableNewCacheTableFilling debe establecerse en false. Este método se divide técnicamente en dos partes:    Procedimientos almacenados para la construcción (CacheTable_Rebuild) y llenado (CacheTable_Repopulate) de la tabla de caché: Estos procedimientos toman como parámetros el ElementTypeId y el LanguageId. Su función es construir la tabla de caché de acuerdo con el formulario e idioma correspondientes, y llenar cada columna de la tabla de caché. Es importante señalar que los MetaDatas tipo File no se incluyen en este proceso.     Llenado de las columnas de la tabla de caché referentes a MetaDatas Tipo File motivado desde la aplicación: Este proceso específico se encarga de llenar las columnas de la tabla de caché relacionadas con MetaDatas Tipo File y se realiza desde la aplicación, de acuerdo con el tamaño de lote registrado en el parámetro CacheTableFillingBatchSize.    Desde el enlace ../Admin/CacheTable.aspx en el Configuration HUB, la acción de construcción y llenado de las tablas de caché se lleva a cabo de la siguiente manera, al igual que en versiones anteriores: se selecciona el formulario, se hace clic en el botón \\'Rebuild\\' en caso de configurar campos o transiciones nuevas al formulario y, finalmente, en \\'Repopulate\\'. Además, el proceso continúa generando registros en SystemOperation.   Pruebas y aplicabilidad: Todas las aplicaciones.   Release Notes:  Changeset 3193, Login Recaptcha, New TC F/R, Emebdded S Mod, SENSE List filtering Limits, Deep Reasignation, frm4.8.1, Misc Fixes   UPDATE: 2022-02-26   30.4-FT-16: (EG,HR) Se creó un mecanismo para llenar campos de un formulario, mientras es editado, desde una API externa, la cual toma como entrada de consulta, información que se encuentra en el propio formulario. Para esto, configure por metadata (destino de los datos consultados) el feature existente TextMetaDataFillerConfig. La configuración que debe tener este feature es un JSON con la siguiente estructura de ejemplo: {   \\'FillerType\\': \\'ExternalAPI\\', --Siempre este valor   \\'ButtonText\\': \\'Titulo del Botón\\',   \\'DataSource\\': \\'EE4948D88EB1294E451D7B1B80E69FAA\\', --Texto encriptado de Parameters la tabla WorkFlowExternalConfig    \\'ExternalAPIId\\': 13, --Id del registro de la tabla WorkFlowExternalConfig   \\'RequiredData\\': [1165], --Array de Metadata ids que se requieren llenar para enviar como parte de la consulta a la API externa   \\'ClientFunction\\': \\'ExecuteExternalAPIMethod\\', --Método de Javascript que se ejecutará al presionar el botón. No Cambiar   \\'FillerHierarchyFilter\\': --Filtro de valores que hará que se muestre o no el botón   {      \\'ParentMetaDataId\\': 1164,      \\'PossibleValues\\': [23203,23204]   },   \\'MetaDataId\\': 657 --MetadataId destino (la propia metadata donde aparece el botón)} Note que FillerHierarchyFilter es opcional y lo que permite es que en el caso descrito, el botón salga si la metadata id 1164, tiene uno de los 2 valores indicados (23203 o 23204).Puede crear más de un botón para la misma metadata y configurar diferentes filtros FillerHierarchyFilter. En caso que la consulta no sea exitosa, la aplicación arrojará un mensaje de error genérico. En algunos casos, la consulta puede arrojar valores nulos, que se sustituiran por el caracter \\'-\\'. La configuración de la consulta puede permitir llenar, con el mismo botón, más de un control en el formulario.Pruebas y Aplicabilidad: CAFAM. Configurar para la consulta de SAP, personas naturales y empresas.   30.4-FIX-16 (HR) Se hicieron correcciones en el endpoint elementworkflow/ExecuteStateChange para el cambio de estado basado en OAuth2. Ahora se comprueba de manera efectiva la identidad del requiriente del cambio de estados y se hacen otras verificaciones de seguridad. Pruebas y Aplicabilidad: Todas las aplicaciones, ver registro en Postman 30.4-FIX-17 (CG)  Corregido el envío de notificaciones cuando ocurre una transición paralela. Anteriormente, se producía un error en el cual, al ejecutar la transición final (ya sea de avance o devolución, según la prioridad en el flujo), siempre se enviaba la notificación configurada para la transición de avance. Sin embargo, en el caso de una devolución en el flujo, esta notificación resultaba incorrecta, ya que correspondía a la de avance.Pruebas y aplicabilidad: NuevaEPS y dónde aplique, se debe probar las notificaciones que se envían cuando hay múltiples responsables, el estado es paralelo y hay devoluciones y/o avances.  ', metadata={'ElementId': 122430}),\n",
      " Document(page_content='1. NEW. Se habilitó el Log para registrar las operaciones de recodificación (operationlog) 2. FIX. . Para esto se decidió poder utilizar un infotext como parte de la mascara (Precaución: el contenido del infotext debe poderse determinar de forma efectiva ANTES de la determinación de la mascara, especialmente en infotext que requieren usar información de elementos padres). 3. FIX. .  4. FIX. . se deben crear 2 parametros StopProcessingNotificationQueueOnWeekends y StopProcessingNotificationQueueOnNonWorkingDays, el primero para detener las notificaciones basadas en ServiceConfig los fines de semana y las segunda para los días no laborales. 5. FIX.   6. NEW. Ahora se guardará en el campo Element.Tags, el ElementId del elemento original cuando se hacen clones. 7. FIX.  [BETA]: Se incluyó server-side la verificación de las jerarquías externas para campos no diligenciados y que son obligatorios. 8. FIX. . Se refrescó el cache de permisos de padres e hijos naturales en dependencias de flujos. 9. FIX.  10. FIX. : Ahora la mascara se presenta como 00:00 para evitar dejar las letras h y m como parte de la hora específicada. 11. FIX. . Se incluyó el botón de vista previa 12. FIX.  13. FIX. Workaround para mejora en desempeño en búsqueda por palabra clave general 14. FIX. Mejora en desempeño en guardado de permisos en elementos.   ChangeLog: Minor Fixes.    Aplicabilidad y Pruebas   3. Todas las apps. Se deben probar las notificaciones simples y las agrupadas, tanto en opepraciones manuales como automáticas. 11. Todas las aplicaciones. Probar listados de agendas de pendientes generales, por módulo y búsquedas generales por diferentes criterios. 14. Todas las aplicaciones. Probar aplicación de permisos en diferentes estados, a personas y grupos, al momento de guardar en SENSE.   UPDATE:2020-12-10   15. FIX: Se ajustó el mecanismo de consumo de WS para firmas digitales. Ahora se incluye en el envelope, el header de autenticación incluyendo los marcadores $USERNAME$, $PASSWORD$ (ver abajo Breaking Change), $NONCE$ y $CREATED$. Estos 4 debe ir dentro del header del envelope. [Breaking Change] Anteriormente se habia definido $PASSWORD$ como contraseña o llave privada para la aplicación de la firma: de ahora en adelante pasa a llamarse $PIN$. De esta forma, un envelope típico (parámetro ExternalDocumentSigningEnvelopTemplate) se define como:  Además, se crearon 3 parámetros nuevos: ExternalDocumentSigningUserName (correspondiente a al username), ExternalDocumentSigningPassword (correspondiente al password encriptado usando el mecanismo estandar de encripción de la app) y ExternalDocumentSigningRequiresAuthentication que define si es necesario o no autenticar la llamada al WS.   UPDATE:2020-12-15   16. FIX: Se reajustó el mecanismo de obtención de contenido obligatorio no diligenciado cuando se trata de controles de metadata con herencia desde un infotext padre (el cual se habia liberado con problemas desde v22) 17. FIX: Se corrigió la aplicación de longitudes máximas cuando la metadata esta en un formulario sin flujo o cuando se configura a través de ETMDFeature    ', metadata={'ElementId': 69562}),\n",
      " Document(page_content=\"29.6-FIX-01: Se realizó un ajuste en el mecanismo de herencia de valores externos de selección simple y múltiple: Ahora se evitan cargar todos los valores en los listados antes de aplicar la jerarquía en controles hijos, por lo que el cargue ahora es más rápido. (Known Issue): En la herencia de listas externas que usan MDV.AlternativeId como configuración de la jerarquía, no funciona de manera adecuada cuando el hijo es del tipo suggest (solo funciona con listas tradicionales). Aplicabilidad y Pruebas: PHQ y en general, todas las aplicaciones que utilizan jerarquías externa basadas en AlternativeId o con ExternalValueHierarchy   29.6-FIX-02: BUG-1043: Al utilizar los links a búsquedas en los listados Sense, se estaban mostrando 2 listados diferentes, de forma incorrecta. Pruebas: Links a búsquedas usando diferentes tipos de filtros.   29.6-FIX-03: Se ajustó el “Link a este elemento” en el ReadOnly, cuando este se abre desde un link (por ejemplo, desde el correo) el cual quedaba incompleto. Pruebas y Aplicabilidad: Todas las aplicaciones, abrir elementos desde links.   29.6-FIX-04: BUG-1032: No se podían subir anexos cuyo nombre empezaba con la palabra “Error”. Pruebas y Aplicabilidad: Subir anexos con diferentes nombres, incluyendo o sin incluir la palabra Error.   29.6-FIX-05: No funcionaba la exportación cuando hay filtros aplicados en listados SENSE. Pruebas y Aplicabilidad: Creare filtros en listados SENSE y exportar los resultados. Todas las aplicaciones.   29.6-FIX-06: Corregidas todas las instancias de redirección en SENSE cuando el usuario requiere autenticación (AD,AAD o Normal). Para que funcione de manera adecuada con AAD, se requiere actualizar el DMAuthenticator (solicitar a Desarrollo). Pruebas y aplicabilidad: Crear links a elementos, listados o listados filtrados, eliminar las sesiones y probar la redirección desde la autenticación, incluyendo AAD.   29.6-FT-01: Se creó un mecanismo de herencia restrictiva entre controles externos (dependiendes de la configuración en MDV.AlternativeId) en la cual los valores hijo pueden ser pre-filtrados basados en los valores del abuelo. Ejemplo, suponga esta jeraraquia: Pais (abuelo): Colombia, Brasil, Venezuela. Estado (Padre): Amazonas (dependiente de Colombia), Amazonas (dependiente de Brasil), Amazonas (dependiente de Venezuela). Capital (hijo): Leticia (dependiente de Amazonas-Colombia), Manaus (dependiente de Amazonas-Brasil) y Puerto Ayacucho (dependiente de Amazonas-Venezuela). Tradicionalmente, si Amazonas tiene el mismo ID, si en el formulario se selecciona “Amazonas”, aparecerán las 3 opciones de capital, lo cual es incorrecto. Al aplicar la restricción (mediante el feature GrandParentAffectsHierarchy en la metadata Padre, con el valor true), se aplicará en los hijos el pre-filtrado de Pais, por lo que en el caso de seleccionar Colombia à Amazonas , la única opción será “Leticia”. Por otra parte, se debe configurar el feature GrandParentHierarchyConfig en el parentId, con la información que relaciona abuelo con hijo, usando el formato VistaAbuelo|AbueloId|AbueloId_en_Padre Por ejemplo Vista|DepartamentoId|DepartamentoId. Pruebas y aplicabilidad: Stork y todas las aplicaciones que tengan similar restricción.   29.6-FIX-07: Se solucionó una situación en la cual en los listados externos de selección simple, no quedaba almacenado de manera correcta el valor seleccionado, de manera que cuando se abría de nuevo el EDIT, no presentaba el valor correcto. Pruebas: se deben probar de nuevo todas las aplicaciones que tengan listas externas de selección simple, con o sin jerarquía. Verificar que se almacenen de manera correcta los valores y que se conserven cuando se abre de nuevo el EDIT.   29.6-FIX-08: BUG-786 (NoFix). El BUG no se solucionó, pero se implementó en SENSE un mecanismo para poder incluir en número de copias a ser requeridas desde la versión impresa en PDF (similar a como se tenía en SWIFT). Para esto, configure por ET el feature UsePrintingCountInSense en true. Pruebas: Configurar el Feature y verificar que el número de copias requeridas quede de manera correcta en el log de operaciones.   29.6-FIX-09: BUG-905. Se corrigió el problema en el cual no aparecían deshabilitados los valores de listas de selección simple y múltiple, con y sin herencia, externas o internas. (Known Issue). Solo funciona con los casos de configuración Tabla|Id|texto y Tabla|id|Texto|Enabled. Pruebas y aplicabilidad: Todas las aplicaciones donde haya valores deshabilitados en las listas mencionadas.   29.6-FIX-10: Se solucionó VULN-16980 reportado por JMC el cual permitía ejecutar XSS en la página de reportes PIVOT. Pruebas y Aplicabilidad: Aplicaciones de JMC, inyectar comandos en el ViewState.   29.6-FIX-11. (CG) BUG-942 - Se hacen calculados del elemento padre cuando el embebido sufre una modificación. Aplicabilidad y pruebas: ver descripción del bug, probar en nuevaEPS.   29.6-FIX-12. (CG) BUG-972 - Ahora se puede definir desde la programación de una encuesta el “subject” del email que se envía para responder la encuesta, para esto configure en feature SurveySubjectParentElementMetaDataId por AddOn indicando el id de la metadata de la programación que contiene el texto a servir como subject. Aplicabilidad y pruebas: FemsaKof y dónde aplique   29.6-FIX-13. (CG, HR) Se reactivó el mecanismo de indexamiento de anexos (búsqueda de textos dentro de los archivos que se suben). Para esto recuerde configurar el parámetro UseIndexinService en true y las demás configuraciones que se encuentran en el release 14.4. De esta manera, los resutaldos de las consultas en los listados en SENSE utilizan resultados de coincidencia de elementos que contengan archivos con la o las palabras buscadas. Para deshabilitar esta caracteristica por ET, configure el feature IndexingServiceDisabled.  Se solucionan BUG-1020 y BUG-912. Aplicabilidad y pruebas: Dónde aplique. Todas las aplicaciones deberían tener esta característica habilitada, salvo en los casos que por temas de desempeño del ServiceProcess que indexa, se demore mas de 3 horas.   29.6-FT-02. (CG) Ahora es posible consultar el operationLog en formato , para esto puede ejecutar el sp OperationLog_GetInSyslogFormat Aplicabilidad y pruebas: Dónde aplique.    29.6-FIX-14. (CG) BUG-1040 – Se corrige el funcionamiento de SemanticTransformation al convertir números en letras Aplicabilidad y pruebas: Femsa Contratos y dónde aplique.   29.6-FIX-15. (CG) BUG-1026 – Cuando se usaba el feature CodeUsesPutativeParentId y el embebido es el mismo ET que el elemento papa no funcionaba de forma correcta los consecutivos, para solucionarlo debe configurar el feature GenerateEmbeddedAlternativeInOrder por el ET que presenta el problema, es importante recalcar que se debe usar solo cuando el embebido hijo es del mismo ET que el papá. Aplicabilidad y pruebas: PHQSGC y dónde aplique.   29.6-FIX-16. (CG) BUG-1029 – NoFix   29.6-FT-03. (CG) CNT-052-ESP-002 ENVIO CORREOS CON COPIA (CC). Ahora es posible cuando se configuré una notificación a un correo externo por WFPExternal, se pueda agregar correos como CC (carbon copy), para esto configure el feature EmailCCWFPExternalMetaDataPair por ET, dónde debe ir el WFPExternalId y la MetadataId de dónde saldrán los correos ejemplo “12|956” dónde 12 es el WFPExternalId y el 956 la metadataId que contiene los correos a copiar. En el caso de requerir copiar a mas de un correo este debe ir separado por punto y coma y sin espacios ejemplo 'prueba1@test.co;prueba2@test.co'. A la tabla NotificationQueue se agrego la columna “CC” dónde se agregaran los correos que se enviarán como copia Aplicabilidad y pruebas: Stork y dónde aplique. Se deben probar todas las notificaciones que se encolan   29.6-FIX-17. (CG) BUG-1039 Se corrigió el doble registro en OperationLog al momento de usar la versión de impresión Aplicabilidad y pruebas: Dónde aplique.   29.6-FIX-18. (CG) Ajustado una situación cuando había lentitud en la red del usuario permitía dar mas de una vez click al momento de avanzar de transición en el cuadro de comentarios lo que ocasionaba múltiples registros en ItemWorkFlowHistory y avances de estados Aplicabilidad y pruebas: PHQSGC, NEPS y dónde aplique   29.6-FIX-19. (CG) Ajustado cuando se busca por un usuario desde la interfaz de usuarios el cargo llegaba nulo Aplicabilidad y pruebas: PHQSGC y dónde aplique   29.6-FT-04(EG) EJECUCIÓN DE API EXTERNA SEGÚN FRECUENCIA: La nueva funcionalidad permite realizar peticiones a APIs externas con base en la frecuencia establecida para cada AppService. Además, permite activar automáticamente el avance en el flujo de trabajo según el valor de un campo específico. Para implementar esta funcionalidad, sigue los pasos a continuación: Identifica los AppServices que realizarán las solicitudes y crea una vista que incluya la información necesaria. La vista debe nombrarse con el prefijo 'ExtAPI_', por ejemplo: 'ExtAPI_MyViewRequestExternalAPI'. La vista debe contener la información de ElementId, ElementTypeId, AppServiceId, Parameters (nombre del SP Custom que generará el JSON para la solicitud o completará la ruta), y FrecuencyId (identificador de la tabla ApiRequestFrequency). Configura los intervalos de tiempo en la tabla ApiRequestFrequency, especificando la frecuencia de días para ejecutar las peticiones a la API externa. Si se requiere, configura la tabla ApiRequestFrequencyDate para indicar el día y mes exactos en los que se ejecutará la petición a la API externa. ExternalAPISimpleValuesExtractionJSONPATH para almacenar la información en metadatas específicas. En caso de valores comparativos, utiliza un (|) adicional para indicar si se debe tener en cuenta su valor para cambio de estado automático. Ejemplo: 31|$.body.content|true. Configura el feature AppService ExternalAPIEndPointResponseWFTransitionPair, indicando el valor del resultado obtenido y la transición a ejecutar. Ejemplo: valor,105 (donde 105 es la transición a ejecutar). Finalmente, para almacenar un historial de las peticiones realizadas a la API externa en un elemento embebido, configura el feature ExternalAPIMetaDataLinking por ET, especificando el metadato embebido donde se guardará el historial. Por último, configure el servicio: DynamicExternalAPIExecution por Horas Aplicabilidad: PEI   29.6-FIX-020(EG):  BUG-1038   29.6-FIX-021(EG):  BUG-1030: Se resolvo situacion en la que con algunos separadores no actualizaba el codigo cuando se queria recodificar manualmente. Se aclara que los unicos separadore permitidos son: punto (.), Guion(-), Guion Bajo(_), andperson(&), numeral(#), espacio( ), viñeta(~) , barra inclinada(/) y sigino de porcentage(%)   29.6-FIX-022(EG):  BUG-1019   29.6-FT-05(EG):  Llenado de tablas mediante API externa, para ello se configura los feature FillingTablesWithExternalAPI por hora y los feature por AppService FillingTablesWithExternalAPI(value puede ir en null o bien puede generar con un custom el JSON para request dependiendo el caso y la API) ExternalAPITableToBeFilled en el que indica los AppService en value {indica tabla llenar}|{Ruta JsonPath con la información} por ejemplo: saplocallotes|$.n0:ZFSINERGIAMLTResponse.MATERIALES.item[?(@.MATNR!= '?')] NOTA: la tabla a llenar ya debe estar creada ExternalAPIColumnByTableKey se debe configurar para indicar cuales son las llaves para garantizar un registro único: se configura {tabla a llenar}|{Nombre del campo} ExternalAPIColumnByTable:Se configura para indicar cuales son las columnas a llenar y además indica cual el es su par en el JSON se configura de la siguiente manera {Nombre de la tabla a llenar}|{Nombre de la columna en la tabla}|{Nombre del valor en el JSON} ExternalAPIUpgradeableColumns: Este se configura indicando cuales son los campos que se tendrán en cuenta para la actualización de una columna si no se configura en el caso de una actualización externa creara un nuevo registro en la tabla se configura de la siguiente manera {tabla a llenar}|{nombre del campo a ser actualizado} Aplicablidad: PHQSGC   29.6-FIX-023 (EG):  Nuevas mejoras al servicio, se eliminó el servicio buildoustandingtaskcacheall   29.6-FT-06 (EG) El servicio ahora es capaz de ejecutarse en días de semana específicos para ello indique en el nuevo campo de la tabla ServiceConfig WeekDays los días de semana a ser ejecutados (Al igual que las tareas de TASk1 y TASK2   29.6-FIX-24 (EG): BUG-1034   29.6-FIX-25(EG): BUG-1021   29.6-FIX-26(EG): BUG-1037: hay cambio en la configuración en el valúe ahora queda de la siguiente manera Feature: ExternalAPIEndpointExecutionAddOrEditMetaDataValue en la cual se deberá configurar {MetaDataKey}|{MetaDataSouerce}|{AppServiceConsumer}: las configuraciones actuales son compatibles, aunque se recomienda realizar el cambio Aplicablidad: Valorem   29.6-FT-07(EG):  Integración con Okta: Para la integración eh inicio de sesión se desarrollo una funcionalidad similar a la autenticación con AAD para la configuración un DocManager configurar los parámetros OktaKid, OktaClientId, OktaGroupId que debe ser proporcionados por el cliente (en los próximos días se publicara un manual para el cliente) adicional ahora con el parametro AuthenticationModeProvider dbe indicar cual es el provedor de autenticacion Azure u Okta Aplicablidad: Donde Aplique   29.6-FIX-27(EG): BUG-1041: la creación del feature 'ETMDValidationOnlyFirstSave' en el que se validaría por ETMD si solo se realiza cualquier validación en el primer guardado o no Aplicablidad: FemsaKOF   29.6-FIX-28(EG): BUG-1033: se Desarrolló el parámetro SendNotificationsByActor en el cual si está en true notificara por actor, es decir si un usuario esta configurado con diferentes ActorId le llegara un correo por cada configuración Aplicablidad: Valorem, General   29.6-FT-08(EG):  Ahora es posible incluir comentarios en las notificaciones con plantilla, para ello simplemente agregue la etiqueta [Comments] la cual será remplazada en el cambio de estado o desde otros orígenes Aplicablidad: General   Release Notes: Keyoti II, Bug-fixes   Tiempo límite de prueba: May 23 - 2023   Video: https://youtu.be/EGIijxo9JXI\", metadata={'ElementId': 106534}),\n",
      " Document(page_content='1. New: Se implementó el sistema de autenticación con  usando .  El mecanismo de single sign-on en el contexto de DocManager, consiste en que los usuarios corporativos de una organización pueden usar sus credenciales de dominio interno para autenticarse en DocManager, cuando este está ubicado en la nube de DocManager. Para esto, deben cumplirse las siguientes condiciones:  El Active Directory local (on-premise) debe estar replicado a un Azure Active Directory (AAD). Existen varios mecanismos para lograrlo, que están fuera del alcance de DocManager (Office 365, ADSync, etc). De esta manera, para un usuario, la contraseña local de Active Directory es la misma que la del AAD. El AAD es propiedad del cliente y es su responsabilidad el mantenimiento. El tenant se define como la representación de la propiedad de la cuenta de Azure, que corresponde al cliente. Cada cliente corresponde a un tenant El cliente debe seguir en su tenant, las instrucciones de configuración de un Active Directory App Registration según se explica . Esto garantizará que la aplicación se pueda conectar de forma efectiva a DocManager. Es posible que el AAD no tenga un equivalente hacia un on-premise AD, pero de igual forma debería operar normalmente.    Flujo de Operación    Configuración de la autenticación  Se creó un nuevo tipo de autenticación en el parámetro AuthenticationMode llamado HybridWithDMAuthenticator. Este permitirá el SSO, pero también permitirá iniciar sesión con credenciales normales. En tal caso, a los usuarios se les presentará la siguiente pantalla:   Desde aquí, los usuarios tendrán 3 opciones:    Cerrar la sesión actual (si se ha usado SSO). Esto es obligatorio para los usuarios que deseen usar una cuenta diferente de SSO, pues a pesar de que se salga de DocManager, las credenciales del AAD siguen siendo válidas.  Entrar con la Contraseña Corporativa. Es decir, usar el SSO. En este caso, lo enviará a introducir sus credenciales:   Aquí puede ocurrir que la persona se pueda autenticar exitosamente, pero no tener autorización para entrar a DocManager. En tal caso, volverá a la página inicial y deberá cerrar sesión e intentar con otra cuenta o con la opción de contraseña de DocManager   Entrar con contraseña de DocManager. Utilización de la contraseña usual de DocManager. Esta opción es la que deberán usar los usuarios que no están en el AAD (usualmente usuarios externos, proveedores, etc)    Configuración del DocManager Authenticator Proxy El DocManager Authenticator Proxy es un servicio que corre en Azure por cada cliente que desee autenticarse usando SSO (esto es, hay una aplicación por cada AAD). Se debe configurar en la tabla AppService bajo el nombre DMAuthenticator:   Nota: No olvidar dejar un slash al final del Address, como se indica en el ejemplo El setup de cada servicio de Authenticator debe ser solicitado a Tecnología de DocManager,ya que no hay instaladores (Nota técnica: Desde Vstudio se hace la publicación de cada servicio directamente en Azure). Para lograr la configuración, se deben solicitar los datos que se piden en el   Configuración de la sincronización La sincronización correrá con el ServiceProcess AzureActiveDirectorySync, el cual debe correr al menos una vez al día (este solo corre como proceso custom, no tiene otra configuración). Tenga en cuenta:  Este proceso solo trae los datos de Nombre, Correo y si está habilitado o no. En este sentido, no trae otras información ni pertenencia a grupos, que seguirá siendo potestad de DocManager.  El email es la llave, por lo que no se sincronizaran usuarios si su correo existe para usuarios que no estén en el AAD (es decir, usuarios externos que requieran entrar con contraseña DocManager). En la tabla person, el campo Domain tendrá el valor “Azure”, en caso de que el usuario sea sincronizado desde AAD.    Diagnóstico Es posible hacer un diagnóstico simple de conectividad al Authenticator Proxy y al AAD, usando la opción de config.aspx.   Una vez abierta la opción, dar clic en Execute Query. Deberá aparecer un JSON con información de los usuarios del AAD del cliente, así:  Si no arroja ningún texto o arroja un mensaje de error, hay que revisar la configuración.   Migración de Cuentas con Contraseñas DocManager Esta operación actualizará las cuentas en la tabla person, para que se puedan sincronizar conta AAD. Par esto, utilice admin/adminutils.aspx en la opción Migrate Normal users to Azure Active Directory y presione Execute. Los resultados saldrán en Additional Details. Tenga en cuenta que TODOS los usuarios serán actualizados, colocando como login su email actual (ya no podrán usar su username o login actual). Si requiere revertir la situación, debe modificar manualmente la tabla person. 2. Fix: Se ajustaron en el editor HTML de SENSE Edit: Posibilidad de expandir el editor, botón pantalla completa (dentro del panel).3. Fix: Se corrigió el mecanismo de preconfiguración de permisos con y sin condiciones (no funcionaba sin condiciones).4. Fix: Ajustado el método Element/Get para eliminar en contenido basura e incluir información de flujo y embebidos.5. Fix: BUG-8556. New: Se creó un mecanismo que permite que al clonar un elemento, se ajuste la relación con sus elementos padre, de tal manera que en ellos quede relacionado la versión clonada y no la versión anterior. Para esto, establezca por ET el feature RelinkOnCloneWithETMetaDataPair que consiste en el par ET,EmbeddedMetadata: de esta forma, ajustará las relaciones con los padres del element recien clonado. Release Notes: Changeset 1986, AAD SSO Aplicabilidad: 1. Valorem, Eficacia. 2. Todos en SENSE 3. SATO 4. Eficacia 6. NEPS.', metadata={'ElementId': 52821}),\n",
      " Document(page_content=\"30.0-FIX-01: (HRP) Se realizaron varios ajustes de seguridad en la aplicación, especialmente en la página de autenticación (normal) así:  La página de autenticación ahora será public/login.ashx en vex de public/login.aspx. Esto debido a que se debe cumplir con lo definido por CSP (), que ayuda a prevenir los ataques de XSS. Toda referencia a login.aspx redirigirá a la nueva página. También se cambió el mecanismo del token de AntiForgery para solucionar algunos problemas inherentes a los encabezados http enviados desde el servidor. Aunque no es recomendado, es posible volver a utilizar la página antigua de autenticación, estableciendo el parámetro UseLegacyLoginPage en true (es un parámetro existente, no es nuevo). En este caso, debe reportarse al área de desarrollo la razón por la cual se habilitó esta opción. También se debe modificar public/ExternalDMAuthStart.html en la línea 23 y dejar aspx en vez de ashx. Por razones de compatibilidad con los encabezados de CSP, se utilizará el idioma del navegador (cuando esté disponible o el idioma del sistema operativo), cuando se ingrese a la página de autenticación. (Breaking Change) En la nueva página de autenticación, la funcionalidad de deshabilitar el pegado de contraseñas no estará disponible (parámetro DisablePasswordPaste). Esto debido a que no es una práctica de seguridad recomendada por SP 800-63B. Si aun así se desea utilizar, se debe configurar UseLegacyLoginPage. En la login.ashx se implementaron dos mecanismos para evitar el abuso de la opción de restablecimiento de contraseña: la utilización del Google ReCaptcha y la limitación de la cantidad de intentos de restablecimiento (por sesión, por navegador), el cual negará la opción de seguirlo ejecutando si se sobrepasa el número definido por el parámetro MaxPasswordResetAttempts. Este valor no puede ser mayor a 10.    Pruebas y aplicabilidad: Se debe probar el ingreso a la aplicación con autenticación normal, autenticación basada en AD e Híbrida con AAD, incluyendo redirecciones desde links en correo u otros contextos. Probar el intento de cambio de contraseñas, incluyendo fuerza bruta. Aplica para todas las apps.   30.0-FIX-02: (HRP) Se solucionó una vulnerabilidad en la página de cambio de contraseñas, mediante manipulación de parámetros del querystring. Pruebas y aplicabilidad: Todas las apps. (Pentest) Intentar abuso de parámetros de la página descrita   30.0-FIX-03a: (HRP) Se solucionó una vulnerabilidad reportada sobre los headers de HSTS (Strict Transport Security) en varios contextos de aplicación. Pruebas y aplicabilidad: Todas las apps. (Pentest) intentar cambio a http en login, inicio de SENSE.   30.0-FIX-03b: (HRP) Ajustado un problema en la exportación desde la grilla, cuando se han aplicado previamente filtros en la consulta. Pruebas y aplicabilidad: Todas las apps. Probar aplicación de filtros de diferente índole y su reflejo en la exportación.   30.0-FT-01: (HRP) Ahora es posible configurar un listado de selección múltiple externa suggest, en elementos embebidos, para que tome información del elemento padre, aún antes de que se guarde (el embebido). Se requiere sin embargo que el elemento padre ya esté guardado. Para esto, se pude usar la configuración de MDV de la metadata como Custom_XXXX {0} | ParentElementId. Pruebas y aplicabilidad: PHQ y aplicaciones con el mismo escenario.   30.0-FT-02: (HRP) Ahora es posible ocultar por defecto el menú de la izquierda en SENSE (módulos), hasta que el usuario opere manualmente el botón de hamburguesa. Para esto, configure el parámetro HideSenseMenuOnStart en true. Si se está utilizando HideSenseMenuOnLandingMedia, este se debe establecer en false para evitar corto circuito. Pruebas y aplicabilidad: KOF, probar en versión desktop y móvil.   30.0-FT-03: (HRP) Ahora es posible ordenar los listados de elementos por ET por defecto. Para esto utilice el feature SenseListDefaultSortColumn (por ET), donde se indique el nombre de la columna. Puede usar los nombres canónicos de las columnas generales como CurrentWorkFlowStateName, CreatedByName, AlternativeId, etc. Se puede usar en conjunción con el feature SenseListOrderIsDesc (true para orden descendente). Pruebas y aplicabilidad: Donde aplique. Probar ordenamiento con y sin la columna visible.   30.0-FT-04: (HRP) (Beta). Ahora es posible utilizar el tema oscuro en SENSE. Para esto, aparecerá el botón en la parte inferior del menú izquierdo de SENSE. Al presionarlo, cambiará continuamente entre el modo oscuro y claro. En algunos casos, el color de la barra superior debe ser ajustada (solicitar a desarrollo).Si no se desea presentar la opción de cambio de tema, establezca el parámetro DisableDarkModeSelector en true. Pruebas y aplicabilidad. Todas las apps.     30.0-FT-05 (EG) Ahora es posible definir que campos tipo listado son visibles en los filtros, esto puede ser realizado por el usuario desde la página de configuración de listados con check para indicarlo. Pruebas y aplicabilidad. Todas las apps.   30.0-FT-06 (EG) Ahora es posible definir múltiples super administradores, que pueden ser definidos por un super administrador en una pagina para tal fin. Esto debe tener un limite de super administradores que se configura en el feature SuperAdminCount, el primer super admin se configura con ayuda del área de desarrollo (usuario de soporte). Las anteriores configuraciones se mantienen excepción del parámetro SuperAdminPersonId ya que los Superadministradores que darán indicados en la tabla SuperAdmin. Pruebas y aplicabilidad. Todas las apps.   30.0-FT-07 (EG) Se modificó el consumo de APIs Externas mediante una frecuencia, el detalle será indicado en la actualización del documento de consumo de APIs Externas. Pruebas y aplicabilidad. Todas las apps.(en especial PEI)   30.0-FIX-04a (EG) BUG-1067 Se realizo ajuste en el en la fusión de documentos en el cual existían casos en el que no interpretaba correctamente el HTML. Pruebas y aplicabilidad. Todas las apps.   30.0-FIX-04b (EG) BUG-1055 Se realizo ajuste en la carga de imágenes en las metadatas Tipo HTML en el cual ajustara la imagen de mas de 700px a 700px para evitar demoras en la caga y además evitar inconsistencias en la versión de impresión. Pruebas y aplicabilidad. Todas las apps.   30.0-FT-08 (EG) NEW (BETA): Nuevo tipo de reportes PIVOT , para configurarlos deje el parámetro UseNewPivotReportVersion en true, y las demás configuraciones habituales en las tablas defaultreport (Por ahora solo es posible mostrar la data, Expórtala a Excel y generar graficas de barra) Pruebas y aplicabilidad. Todas las apps.    30.0-FT-09(CG) Ahora, en la ayuda del flujo de cada elemento, es posible visualizar los responsables asignados  (ItemWorkflowtransitionPerson) para ejecutar sus transiciones, así como también se indica si la transición ha sido ejecutada o no, brindando mayor claridad sobre el estado del proceso. Para esto configure el feature ShowWorkFlowHelpWithResponsiblesByGroup por ElementType (un grupo por registro) indicando el ActionGroupId que puede ver esta información adicional en la ayuda del flujo. Pruebas y aplicabilidad: General, probar que la información mostrada sea la correspondiente al flujo.   30.0-FT-10 (CG) Ahora en el módulo de administración se habilitó la visualización de la Guía de configuración de la aplicación (se debe insertar el permiso para poderlo ver en MenuPermission de forma manual). Pruebas y aplicabilidad. Todas las apps. 30.0-FIX-06 (CG)  Se creó el parámetro SMSEnabled para evitar errores en las notificaciones de vencimiento cuando está configurado el feature PhoneNumberMetaData. Pruebas y aplicabilidad. Todas las apps en especial EficaciaCD.   30.0-FT-11 (CG) Ahora, al realizar una búsqueda general desde el inicio, no se mostrarán los ElementTypes sin resultados. Se creó el parámetro ShowEmptyETResults que, si está en true, manejará el comportamiento usual. Pruebas y aplicabilidad. Todas las apps.   30.0-FT-12 (CG) Ahora es posible crear, habilitar y/o deshabilitar los superadministradores (ver 30.0-FT-06). Esta opción está habilitada para usuarios tipo Superadmin y pueden acceder desde el ConfigurationHUB. Pruebas y aplicabilidad. Todas las apps.   30.0-FIX-07 (CG) Ahora en sense es posible indicar qué secciones de un elemento no se deben ver al utilizar la versión de impresión. Esta configuración está visible según los permisos de cada usuario sobre las secciones de los elementos y la columna UseSections en la tabla ElementType. Prueas y aplicabilidad. Todas las apps.   30.0-FIX-08 (CG)  Ver descripción del bug. Pruebas y aplicabilidad. Todas las apps.   30.0-FIX-09 (CG)  Ver descripción del bug. Pruebas y aplicabilidad. NEPS y Todas las apps dónde se use exportación en los listados HTML.   30.0-FIX-10 (CG) Ver descripción del bug. Pruebas y aplicabilidad. Todas las apps.   30.0-FT-13 (CG) Ahora es posible en las notificaciones que usan plantilla adjuntar los anexos en la notificación, de los elementos embebidos. Para esto, en la plantilla HTML, utilice una etiqueta con el siguiente formato: [$emb.Archivo] Donde 'emb' es el nombre de la metadata tipo embebido (OtherElementMultiple o OtherElementSingle) configurada en el elemento padre, y 'Archivo' es el nombre de la metadata tipo file configurada en el elemento embebido que contiene los anexos a adjuntar. Es obligatorio incluir los corchetes cuadrados y que la etiqueta inicie con el símbolo de peso '$', ya que esto indica que se buscará dentro de los elementos embebidos. Pruebas y aplicabilidad. Todas las apps.   30.0-FT-14 (CG) NEW (BETA) Ahora es posible utilizar un cronómetro en el RO del elemento y, al detenerlo, guardar el tiempo registrado en un nuevo elemento (cuando se abre la ventana modal con LiteEdit.aspx, los valores preseleccionados se configuran en las metadatas establecidas y se debe guardar al dar clic en 'Guardar'). Para habilitar esta funcionalidad, configure el feature TimerDataElementType por ElementType como 'true' por tipo de elemento, donde se va a visualizar el cronómetro. Además, configure el feature TimerDataConfig por ElementType para indicar en qué metadatas del nuevo elemento debe guardar el tiempo, siguiendo el formato '140|952|IDATE', donde:  '140' es el tipo de elemento donde se guardará el registro del cronómetro. '952' es la metadata donde se guardará el registro del tiempo. 'IDATE' es la parte puntual del tiempo que se requiere guardar en la metadata, en este caso, la hora inicial.  Para el último dato de la configuración 'IDATE', existen varios 'marcadores' que indican cómo guardar el tiempo registrado en el cronómetro y otras configuraciones:  'ITIME': obtiene la hora inicial. 'ETIME': obtiene la hora final. 'IDATE': obtiene la fecha inicial. 'EDATE': obtiene la fecha final. 'IDATETIME': obtiene la hora y la fecha final. 'EDATETIME': obtiene la hora y la fecha final. 'PEID': obtiene el elementId del elemento padre. 'EMBMDID': indica si el elemento debe quedar embebido desde donde se registró el tiempo. Para usar esta opción, la metadataId debe ser el ID de la metadata del elemento padre (donde se visualiza el cronómetro) donde se debería guardar como embebido.  NOTA: Es importante tener en cuenta que los cálculos de las horas se basan en la hora actual del sistema desde donde se utiliza. por cada metadata debe existir un registro apuntando al mismo ElementType, este es un ejemplo de como debería ir la configuración en la base de datos.Pruebas y aplicabilidad. SARA y dónde aplique, se deben probar todas las opciones de los marcadores. 30.0-FT-15 (CG) Se ha creado el método 'element/ReplaceParentByCriteria' en OAUTH2. Este método, con base en un texto ingresado, el ElementTypeId ingresado y un MetaDataId previamente configurado en la base de datos, busca un Elemento que cumpla con los filtros especificados y lo reemplaza como el nuevo padre del ElementId ingresado en el json. El método recibe como parámetro un objeto con el siguiente formato: { 'ElementId' : 410986,   // Este es el ElementId del elemento que reemplazará el padre.'ParentIdentifier': 'This is a unique value',   // Este es el texto exacto con el que se buscará en ElementMetadataValue. 'ParentElementTypeId' : 87   // Este es el ElementTypeId del elemento padre que será filtrado y, a su vez, reemplazado. }La metadataId que es dónde va a hacer la busqueda del texto pasado en 'ParentIdentifier' se configura usando el feature ReplaceableParentKeyMetaDataId por elementType el cual debe ser el mismo ElementTypeId pasado en el parametro 'ParentElementTypeId'NOTA: Si El ElementId pasado en el objeto no tiene un elemento padre, la api retornará un texto indicandolo y NO pondrá el elmento que cumpla con los criterios pasados como nuevo elemento padre. Pruebas y aplicabilidad. EficaciaCD y dónde aplique.   30.0-FT-16 (CG) En la base de datos de Desarrollo esta el sp Custom_Element_ListToDosAll el cual lista los pendientes generales de la aplicación y lo elementos padres dónde estan las alertas (que funcionan como tarea pendiente) de LexisNexis Pruebas y aplicabilidad. PEI   Release Notes: CSP/Login fixes, PIVOT, DTheme, NewTimer, ExternalFlow\", metadata={'ElementId': 110816})]\n"
     ]
    }
   ],
   "source": [
    "from pprint import pprint\n",
    "\n",
    "pprint(data[:5])"
   ]
  },
  {
   "cell_type": "code",
   "execution_count": 6,
   "metadata": {},
   "outputs": [],
   "source": [
    "from langchain.text_splitter import RecursiveCharacterTextSplitter\n",
    "\n",
    "text_splitter = RecursiveCharacterTextSplitter(\n",
    "    chunk_size = 500,\n",
    "    length_function=len,\n",
    "    chunk_overlap=100\n",
    ")\n",
    "\n",
    "documents = text_splitter.split_documents(data)"
   ]
  },
  {
   "cell_type": "code",
   "execution_count": 7,
   "metadata": {},
   "outputs": [
    {
     "data": {
      "text/plain": [
       "1665"
      ]
     },
     "execution_count": 7,
     "metadata": {},
     "output_type": "execute_result"
    }
   ],
   "source": [
    "len(documents)"
   ]
  },
  {
   "cell_type": "code",
   "execution_count": 8,
   "metadata": {},
   "outputs": [
    {
     "data": {
      "text/plain": [
       "Document(page_content='Video: https://youtu.be/z-IwPw5gwD8 Fecha máxima para comentarios y correcciones: Marzo 21, 2024   30.4-FIX-01 (CG)  Ajustado error cuando se usaban suggest en el filtro no traía resultadosPruebas y aplicabilidad: Makro y dónde aplique, se debe probar que al usar en el filtro campos suggest, este retorne los resultados que corresponden al filtro aplicado. 30.4-FIX-02 (CG)  Ajustado la funcionalidad del parametro VersionChangesMetaDataIdPruebas y aplicabilidad: Ebsa y dónde aplique. 30.4-FIX-03', metadata={'ElementId': 122430})"
      ]
     },
     "execution_count": 8,
     "metadata": {},
     "output_type": "execute_result"
    }
   ],
   "source": [
    "documents[0]"
   ]
  },
  {
   "cell_type": "code",
   "execution_count": 9,
   "metadata": {},
   "outputs": [
    {
     "data": {
      "text/plain": [
       "Document(page_content='del parametro VersionChangesMetaDataIdPruebas y aplicabilidad: Ebsa y dónde aplique. 30.4-FIX-03 (CG) Ajustado error que se presentaba al enviar las notificaciones para responder encuestas (SURVEYS II). Anteriormente, existía un límite de 12 horas para abrir la encuesta a través del enlace enviado por correo electrónico, después del límite se generaba un error. Pruebas y aplicabilidad: Seguros Mundial. Probar generando encuentas y poder usar el link para responderla despues de doce horas.', metadata={'ElementId': 122430})"
      ]
     },
     "execution_count": 9,
     "metadata": {},
     "output_type": "execute_result"
    }
   ],
   "source": [
    "documents[1]"
   ]
  },
  {
   "cell_type": "code",
   "execution_count": 10,
   "metadata": {},
   "outputs": [
    {
     "name": "stderr",
     "output_type": "stream",
     "text": [
      "/home/garceseder2/chatbot/dev_chat/lib/python3.10/site-packages/tqdm/auto.py:21: TqdmWarning: IProgress not found. Please update jupyter and ipywidgets. See https://ipywidgets.readthedocs.io/en/stable/user_install.html\n",
      "  from .autonotebook import tqdm as notebook_tqdm\n"
     ]
    }
   ],
   "source": [
    "from langchain.embeddings import SentenceTransformerEmbeddings\n",
    "\n",
    "embeddings_st = SentenceTransformerEmbeddings(\n",
    "    model_name=\"sentence-transformers/paraphrase-multilingual-MiniLM-L12-v2\"\n",
    ")\n",
    "## Otro modelo en español que podríamos usar es \"symanto/sn-xlm-roberta-base-snli-mnli-anli-xnli\""
   ]
  },
  {
   "cell_type": "code",
   "execution_count": 11,
   "metadata": {},
   "outputs": [],
   "source": [
    "from langchain.vectorstores import Chroma\n",
    "NOMBRE_INDICE_CHROMA = \"../databases/embeddings-public\""
   ]
  },
  {
   "cell_type": "code",
   "execution_count": 12,
   "metadata": {},
   "outputs": [],
   "source": [
    "\n",
    "vectorstore_chroma = Chroma.from_documents(\n",
    "    documents=documents,\n",
    "    embedding=embeddings_st,\n",
    "    persist_directory=NOMBRE_INDICE_CHROMA\n",
    ")"
   ]
  },
  {
   "cell_type": "code",
   "execution_count": 13,
   "metadata": {},
   "outputs": [],
   "source": [
    "vectorstore_chroma.persist()"
   ]
  },
  {
   "cell_type": "code",
   "execution_count": 14,
   "metadata": {},
   "outputs": [],
   "source": [
    "vectorstore_chroma = Chroma(\n",
    "    persist_directory=NOMBRE_INDICE_CHROMA,\n",
    "    embedding_function=embeddings_st\n",
    ")"
   ]
  },
  {
   "cell_type": "code",
   "execution_count": 18,
   "metadata": {},
   "outputs": [],
   "source": [
    "query = \"Cual es el parametro para configurar el nuevo Pivot?\"\n",
    "\n",
    "docs = vectorstore_chroma.similarity_search_with_score(query, k=10)"
   ]
  },
  {
   "cell_type": "code",
   "execution_count": 19,
   "metadata": {},
   "outputs": [
    {
     "data": {
      "text/plain": [
       "[(Document(page_content='en cuenta de forma correcta el órden en que se establecen (SENSE), arrastrando y soltando en el formulario. 13. FIX: Se ajustó el mecanismo de creación automática de embebidos para dejarlos con la versión inicial establecida por el parámetro InitialVersion. 14. FIX: Se ajustó el mecanismo de creación automática de embebidos, para ejecutar los calculos de metadatas calculadas e infotext. 15. FIX:  (Metadata no trae responsables de los permisos configurados). 16. FIX:  17. FIX: [Breaking Change]', metadata={'ElementId': 47716}),\n",
       "  8.122855186462402),\n",
       " (Document(page_content='de obtener permisos no editables, responsables de flujo durante el cambio de estado. Pruebas y Aplicabilidad: Donde sea requerido. Probar configuración de elementos durante cambios de estado, asignación correcta de los permisos y responsables en el flujo    29.4-FIX-05. Corregido un problema de desempeño relacionado con el mecanismo que obtiene información del nombre real de un anexo, cuando este se almacena como parte de contenido HTML. Pruebas y Aplicabilidad: Probar carga y descarga de', metadata={'ElementId': 101222}),\n",
       "  8.37336540222168),\n",
       " (Document(page_content='estas van separadas por coma(,) y tendrá en cuenta el orden.  FIX:Se realizo ajuste en el mecanismo de la generación de nuevas versiones basados en metadata que ocasionaba que no quedaran las notificaciones en cola cuando estas tenían un auto-avance FIX: Solucionada una regresión que ocurria con la subida de firmas escaneadas, debido a los cambios en los mecanismos de seguridad de la aplicación. NEW: [Breaking Change]: El ServiceProcess ObjectCacheCleanup ahora pasa a llamarse ObjectMaintenance', metadata={'ElementId': 86036}),\n",
       "  8.984123229980469),\n",
       " (Document(page_content='que son las transiciones que llevan a esos estados (igualmente separados por comas). Pruebas y Aplicabilidad: Todas las aplicaciones. Se requiere probar de forma efectiva que el link a la última versión lleve al usuario a la versión correcta.   29.7-FIX-06: BUG-1062   29.7-FIX-07: BUG-1064   UPDATE 2023-06-20  29.7-FT-17 (CG) : Para optimizar el envío de correos de vencimientos, hemos implementado una nueva estrategia que consiste en procesarlos en lotes de 100 elementos. Esta medida nos', metadata={'ElementId': 108410}),\n",
       "  9.218730895458693),\n",
       " (Document(page_content='elemento, pero despues al editarlo saltaba la advertencia de que había una secuencia de caracateres potencialmente peligrosa. Pruebas y aplicabilidad: Opain. Se debe probar al momento de crear un elemento, subir anexos dónde el nombre contenga caracteres especiales y luego poder editar el elemento sin que genere esta alerta. 30.4-FIX-06 (CG)  se creo el parametro UseETMDWFTransitionSettingsInCalculated que debe estar en true para cuando se realicen calculados desde configurationHub, use la', metadata={'ElementId': 122430}),\n",
       "  9.373311996459961),\n",
       " (Document(page_content='que usa Oauth2, para hacer store de UN solo elemento de forma sincrónica (de la misma forma que StoreAsync, solo que en este caso se retorna el ElementId). Pruebas y aplicabilidad: PEI y general.   R28.2-FT-06 NEW. Ahora es posible usar el personid (definido en una metadata) para que quede como creador de una nueva versión de un elemento (ya no le pedirá elegir el nuevo creador). Para esto, configure por ET el feature NewVersionResponsibleMetaDataId (metadata tipo texto, infotext o lista', metadata={'ElementId': 95473}),\n",
       "  9.468092918395996),\n",
       " (Document(page_content='para poder mostrar en el menu de la izquierda como item principal de SENSE un link para el listado de evaluaciones pendientes de la persona. 15. NEW (EG) Se creo un nuevo migrador de elementos basados en StoreProcedure en el cual se deben tener en cuenta las condiciones ya bien conocidas (campos obligatorios: ImportId (único por hoja de excel),CreationDate, CreatedBy, LegacyId(único en la aplicación) ; Responsables de los flujos y CreatedBy se indican con PersonId). Además, se cambió la forma', metadata={'ElementId': 93465}),\n",
       "  9.556206703186035),\n",
       " (Document(page_content='on-premise, PHQ   29.7-FT-10 (CG) no usar, aplica para próximo release. Ahora, en la ayuda del flujo de cada elemento, es posible visualizar los responsables asignados para ejecutar sus transiciones, así como también se indica si la transición ha sido ejecutada o no, brindando mayor claridad sobre el estado del proceso. Para esto configure el feature ShowWorkFlowHelpWithResponsiblesByGroup por ElementType (un grupo por registro) indicando el ActionGroupId que puede ver esta información', metadata={'ElementId': 108410}),\n",
       "  9.585459311552532),\n",
       " (Document(page_content='en true, y las demás configuraciones habituales en las tablas defaultreport (Por ahora solo es posible mostrar la data, Expórtala a Excel y generar graficas de barra) Pruebas y aplicabilidad. Todas las apps.    30.0-FT-09(CG) Ahora, en la ayuda del flujo de cada elemento, es posible visualizar los responsables asignados  (ItemWorkflowtransitionPerson) para ejecutar sus transiciones, así como también se indica si la transición ha sido ejecutada o no, brindando mayor claridad sobre el estado del', metadata={'ElementId': 110816}),\n",
       "  9.681062698364258),\n",
       " (Document(page_content='en ella si no han habido cambios desde el último guardado. Si por alguna razón no funciona bien, se debe establecer el parámetro DisableCacheTableChangesCheck en true.  Release Notes: Multi-language v2, TC save changes, Minor Fiexs, Changeset 2211.   Aplicabilidad y Pruebas 1,3,8 Opain 2,4,5,9,10,12 General 11 KOF México/Brasil. El cambio a multi-lenguaje y mecanismo de tablas de cache obliga a probar de nuevo toda la aplicación, incluyendo el módulo de administración.', metadata={'ElementId': 86036}),\n",
       "  9.68410873413086)]"
      ]
     },
     "execution_count": 19,
     "metadata": {},
     "output_type": "execute_result"
    }
   ],
   "source": [
    "docs"
   ]
  }
 ],
 "metadata": {
  "kernelspec": {
   "display_name": "env",
   "language": "python",
   "name": "python3"
  },
  "language_info": {
   "codemirror_mode": {
    "name": "ipython",
    "version": 3
   },
   "file_extension": ".py",
   "mimetype": "text/x-python",
   "name": "python",
   "nbconvert_exporter": "python",
   "pygments_lexer": "ipython3",
   "version": "3.10.12"
  }
 },
 "nbformat": 4,
 "nbformat_minor": 2
}
