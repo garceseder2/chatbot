{
 "cells": [
  {
   "cell_type": "code",
   "execution_count": 1,
   "metadata": {},
   "outputs": [],
   "source": [
    "import pandas as pd\n",
    "import unicodedata"
   ]
  },
  {
   "cell_type": "code",
   "execution_count": 2,
   "metadata": {},
   "outputs": [
    {
     "data": {
      "text/html": [
       "<div>\n",
       "<style scoped>\n",
       "    .dataframe tbody tr th:only-of-type {\n",
       "        vertical-align: middle;\n",
       "    }\n",
       "\n",
       "    .dataframe tbody tr th {\n",
       "        vertical-align: top;\n",
       "    }\n",
       "\n",
       "    .dataframe thead th {\n",
       "        text-align: right;\n",
       "    }\n",
       "</style>\n",
       "<table border=\"1\" class=\"dataframe\">\n",
       "  <thead>\n",
       "    <tr style=\"text-align: right;\">\n",
       "      <th></th>\n",
       "      <th>source</th>\n",
       "      <th>Value</th>\n",
       "    </tr>\n",
       "  </thead>\n",
       "  <tbody>\n",
       "    <tr>\n",
       "      <th>0</th>\n",
       "      <td>122430</td>\n",
       "      <td>Video: https://youtu.be/z-IwPw5gwD8 Fecha máxi...</td>\n",
       "    </tr>\n",
       "    <tr>\n",
       "      <th>1</th>\n",
       "      <td>69562</td>\n",
       "      <td>1. NEW. Se habilitó el Log para registrar las ...</td>\n",
       "    </tr>\n",
       "    <tr>\n",
       "      <th>2</th>\n",
       "      <td>106534</td>\n",
       "      <td>29.6-FIX-01: Se realizó un ajuste en el mecani...</td>\n",
       "    </tr>\n",
       "    <tr>\n",
       "      <th>3</th>\n",
       "      <td>52821</td>\n",
       "      <td>1. New: Se implementó el sistema de autenticac...</td>\n",
       "    </tr>\n",
       "    <tr>\n",
       "      <th>4</th>\n",
       "      <td>110816</td>\n",
       "      <td>30.0-FIX-01: (HRP) Se realizaron varios ajuste...</td>\n",
       "    </tr>\n",
       "    <tr>\n",
       "      <th>...</th>\n",
       "      <td>...</td>\n",
       "      <td>...</td>\n",
       "    </tr>\n",
       "    <tr>\n",
       "      <th>146</th>\n",
       "      <td>96955</td>\n",
       "      <td>R29.1-FIX-01: FIX. (EG) Se corrigió el problem...</td>\n",
       "    </tr>\n",
       "    <tr>\n",
       "      <th>147</th>\n",
       "      <td>97580</td>\n",
       "      <td>R29.2-FT-01: NEW.  Se reescribió todo el mecan...</td>\n",
       "    </tr>\n",
       "    <tr>\n",
       "      <th>148</th>\n",
       "      <td>98276</td>\n",
       "      <td>R29.3-FT-01: NEW. Se creó un mecanismo para cu...</td>\n",
       "    </tr>\n",
       "    <tr>\n",
       "      <th>149</th>\n",
       "      <td>115966</td>\n",
       "      <td>Video:    30.2-FT-01. (HR) Ahora es posible ut...</td>\n",
       "    </tr>\n",
       "    <tr>\n",
       "      <th>150</th>\n",
       "      <td>108410</td>\n",
       "      <td>29.7-FT-01: (EG): Sincronización de cargos y o...</td>\n",
       "    </tr>\n",
       "  </tbody>\n",
       "</table>\n",
       "<p>151 rows × 2 columns</p>\n",
       "</div>"
      ],
      "text/plain": [
       "     source                                              Value\n",
       "0    122430  Video: https://youtu.be/z-IwPw5gwD8 Fecha máxi...\n",
       "1     69562  1. NEW. Se habilitó el Log para registrar las ...\n",
       "2    106534  29.6-FIX-01: Se realizó un ajuste en el mecani...\n",
       "3     52821  1. New: Se implementó el sistema de autenticac...\n",
       "4    110816  30.0-FIX-01: (HRP) Se realizaron varios ajuste...\n",
       "..      ...                                                ...\n",
       "146   96955  R29.1-FIX-01: FIX. (EG) Se corrigió el problem...\n",
       "147   97580  R29.2-FT-01: NEW.  Se reescribió todo el mecan...\n",
       "148   98276  R29.3-FT-01: NEW. Se creó un mecanismo para cu...\n",
       "149  115966  Video:    30.2-FT-01. (HR) Ahora es posible ut...\n",
       "150  108410  29.7-FT-01: (EG): Sincronización de cargos y o...\n",
       "\n",
       "[151 rows x 2 columns]"
      ]
     },
     "execution_count": 2,
     "metadata": {},
     "output_type": "execute_result"
    }
   ],
   "source": [
    "df = pd.read_csv('../data/data.csv', encoding='utf-8')\n",
    "df"
   ]
  },
  {
   "cell_type": "code",
   "execution_count": 3,
   "metadata": {},
   "outputs": [
    {
     "data": {
      "text/html": [
       "<div>\n",
       "<style scoped>\n",
       "    .dataframe tbody tr th:only-of-type {\n",
       "        vertical-align: middle;\n",
       "    }\n",
       "\n",
       "    .dataframe tbody tr th {\n",
       "        vertical-align: top;\n",
       "    }\n",
       "\n",
       "    .dataframe thead th {\n",
       "        text-align: right;\n",
       "    }\n",
       "</style>\n",
       "<table border=\"1\" class=\"dataframe\">\n",
       "  <thead>\n",
       "    <tr style=\"text-align: right;\">\n",
       "      <th></th>\n",
       "      <th>source</th>\n",
       "      <th>Value</th>\n",
       "    </tr>\n",
       "  </thead>\n",
       "  <tbody>\n",
       "    <tr>\n",
       "      <th>0</th>\n",
       "      <td>122430</td>\n",
       "      <td>Video: https://youtu.be/z-IwPw5gwD8 Fecha máxi...</td>\n",
       "    </tr>\n",
       "    <tr>\n",
       "      <th>1</th>\n",
       "      <td>69562</td>\n",
       "      <td>1. NEW. Se habilitó el Log para registrar las ...</td>\n",
       "    </tr>\n",
       "    <tr>\n",
       "      <th>2</th>\n",
       "      <td>106534</td>\n",
       "      <td>29.6-FIX-01: Se realizó un ajuste en el mecani...</td>\n",
       "    </tr>\n",
       "    <tr>\n",
       "      <th>3</th>\n",
       "      <td>52821</td>\n",
       "      <td>1. New: Se implementó el sistema de autenticac...</td>\n",
       "    </tr>\n",
       "    <tr>\n",
       "      <th>4</th>\n",
       "      <td>110816</td>\n",
       "      <td>30.0-FIX-01: (HRP) Se realizaron varios ajuste...</td>\n",
       "    </tr>\n",
       "    <tr>\n",
       "      <th>...</th>\n",
       "      <td>...</td>\n",
       "      <td>...</td>\n",
       "    </tr>\n",
       "    <tr>\n",
       "      <th>146</th>\n",
       "      <td>96955</td>\n",
       "      <td>R29.1-FIX-01: FIX. (EG) Se corrigió el problem...</td>\n",
       "    </tr>\n",
       "    <tr>\n",
       "      <th>147</th>\n",
       "      <td>97580</td>\n",
       "      <td>R29.2-FT-01: NEW.  Se reescribió todo el mecan...</td>\n",
       "    </tr>\n",
       "    <tr>\n",
       "      <th>148</th>\n",
       "      <td>98276</td>\n",
       "      <td>R29.3-FT-01: NEW. Se creó un mecanismo para cu...</td>\n",
       "    </tr>\n",
       "    <tr>\n",
       "      <th>149</th>\n",
       "      <td>115966</td>\n",
       "      <td>Video:    30.2-FT-01. (HR) Ahora es posible ut...</td>\n",
       "    </tr>\n",
       "    <tr>\n",
       "      <th>150</th>\n",
       "      <td>108410</td>\n",
       "      <td>29.7-FT-01: (EG): Sincronización de cargos y o...</td>\n",
       "    </tr>\n",
       "  </tbody>\n",
       "</table>\n",
       "<p>151 rows × 2 columns</p>\n",
       "</div>"
      ],
      "text/plain": [
       "     source                                              Value\n",
       "0    122430  Video: https://youtu.be/z-IwPw5gwD8 Fecha máxi...\n",
       "1     69562  1. NEW. Se habilitó el Log para registrar las ...\n",
       "2    106534  29.6-FIX-01: Se realizó un ajuste en el mecani...\n",
       "3     52821  1. New: Se implementó el sistema de autenticac...\n",
       "4    110816  30.0-FIX-01: (HRP) Se realizaron varios ajuste...\n",
       "..      ...                                                ...\n",
       "146   96955  R29.1-FIX-01: FIX. (EG) Se corrigió el problem...\n",
       "147   97580  R29.2-FT-01: NEW.  Se reescribió todo el mecan...\n",
       "148   98276  R29.3-FT-01: NEW. Se creó un mecanismo para cu...\n",
       "149  115966  Video:    30.2-FT-01. (HR) Ahora es posible ut...\n",
       "150  108410  29.7-FT-01: (EG): Sincronización de cargos y o...\n",
       "\n",
       "[151 rows x 2 columns]"
      ]
     },
     "execution_count": 3,
     "metadata": {},
     "output_type": "execute_result"
    }
   ],
   "source": [
    "df['Value'] = df['Value'].str.replace('\\xa0', ' ')\n",
    "df"
   ]
  },
  {
   "cell_type": "code",
   "execution_count": 4,
   "metadata": {},
   "outputs": [
    {
     "data": {
      "text/html": [
       "<div>\n",
       "<style scoped>\n",
       "    .dataframe tbody tr th:only-of-type {\n",
       "        vertical-align: middle;\n",
       "    }\n",
       "\n",
       "    .dataframe tbody tr th {\n",
       "        vertical-align: top;\n",
       "    }\n",
       "\n",
       "    .dataframe thead th {\n",
       "        text-align: right;\n",
       "    }\n",
       "</style>\n",
       "<table border=\"1\" class=\"dataframe\">\n",
       "  <thead>\n",
       "    <tr style=\"text-align: right;\">\n",
       "      <th></th>\n",
       "      <th>source</th>\n",
       "      <th>Value</th>\n",
       "    </tr>\n",
       "  </thead>\n",
       "  <tbody>\n",
       "    <tr>\n",
       "      <th>0</th>\n",
       "      <td>122430</td>\n",
       "      <td>Video: https://youtu.be/z-IwPw5gwD8 Fecha máxi...</td>\n",
       "    </tr>\n",
       "    <tr>\n",
       "      <th>1</th>\n",
       "      <td>69562</td>\n",
       "      <td>1. NEW. Se habilitó el Log para registrar las ...</td>\n",
       "    </tr>\n",
       "    <tr>\n",
       "      <th>2</th>\n",
       "      <td>106534</td>\n",
       "      <td>29.6-FIX-01: Se realizó un ajuste en el mecani...</td>\n",
       "    </tr>\n",
       "    <tr>\n",
       "      <th>3</th>\n",
       "      <td>52821</td>\n",
       "      <td>1. New: Se implementó el sistema de autenticac...</td>\n",
       "    </tr>\n",
       "    <tr>\n",
       "      <th>4</th>\n",
       "      <td>110816</td>\n",
       "      <td>30.0-FIX-01:   Se realizaron varios ajustes de...</td>\n",
       "    </tr>\n",
       "    <tr>\n",
       "      <th>...</th>\n",
       "      <td>...</td>\n",
       "      <td>...</td>\n",
       "    </tr>\n",
       "    <tr>\n",
       "      <th>146</th>\n",
       "      <td>96955</td>\n",
       "      <td>R29.1-FIX-01: FIX.   Se corrigió el problema d...</td>\n",
       "    </tr>\n",
       "    <tr>\n",
       "      <th>147</th>\n",
       "      <td>97580</td>\n",
       "      <td>R29.2-FT-01: NEW.  Se reescribió todo el mecan...</td>\n",
       "    </tr>\n",
       "    <tr>\n",
       "      <th>148</th>\n",
       "      <td>98276</td>\n",
       "      <td>R29.3-FT-01: NEW. Se creó un mecanismo para cu...</td>\n",
       "    </tr>\n",
       "    <tr>\n",
       "      <th>149</th>\n",
       "      <td>115966</td>\n",
       "      <td>Video:    30.2-FT-01.   Ahora es posible utili...</td>\n",
       "    </tr>\n",
       "    <tr>\n",
       "      <th>150</th>\n",
       "      <td>108410</td>\n",
       "      <td>29.7-FT-01:  : Sincronización de cargos y otra...</td>\n",
       "    </tr>\n",
       "  </tbody>\n",
       "</table>\n",
       "<p>151 rows × 2 columns</p>\n",
       "</div>"
      ],
      "text/plain": [
       "     source                                              Value\n",
       "0    122430  Video: https://youtu.be/z-IwPw5gwD8 Fecha máxi...\n",
       "1     69562  1. NEW. Se habilitó el Log para registrar las ...\n",
       "2    106534  29.6-FIX-01: Se realizó un ajuste en el mecani...\n",
       "3     52821  1. New: Se implementó el sistema de autenticac...\n",
       "4    110816  30.0-FIX-01:   Se realizaron varios ajustes de...\n",
       "..      ...                                                ...\n",
       "146   96955  R29.1-FIX-01: FIX.   Se corrigió el problema d...\n",
       "147   97580  R29.2-FT-01: NEW.  Se reescribió todo el mecan...\n",
       "148   98276  R29.3-FT-01: NEW. Se creó un mecanismo para cu...\n",
       "149  115966  Video:    30.2-FT-01.   Ahora es posible utili...\n",
       "150  108410  29.7-FT-01:  : Sincronización de cargos y otra...\n",
       "\n",
       "[151 rows x 2 columns]"
      ]
     },
     "execution_count": 4,
     "metadata": {},
     "output_type": "execute_result"
    }
   ],
   "source": [
    "import re\n",
    "df['Value'] = df['Value'].apply(lambda x: re.sub(r'(bugs?[:\\s-]?\\d{0,4}:?)|((\\(EG\\))|(\\(HRP?\\))|(\\(CG\\))|(\\(SL\\))|(\\(CM\\)))', ' ', x, flags=re.IGNORECASE | re.MULTILINE))\n",
    "df"
   ]
  },
  {
   "cell_type": "code",
   "execution_count": 5,
   "metadata": {},
   "outputs": [
    {
     "data": {
      "text/html": [
       "<div>\n",
       "<style scoped>\n",
       "    .dataframe tbody tr th:only-of-type {\n",
       "        vertical-align: middle;\n",
       "    }\n",
       "\n",
       "    .dataframe tbody tr th {\n",
       "        vertical-align: top;\n",
       "    }\n",
       "\n",
       "    .dataframe thead th {\n",
       "        text-align: right;\n",
       "    }\n",
       "</style>\n",
       "<table border=\"1\" class=\"dataframe\">\n",
       "  <thead>\n",
       "    <tr style=\"text-align: right;\">\n",
       "      <th></th>\n",
       "      <th>source</th>\n",
       "      <th>Value</th>\n",
       "    </tr>\n",
       "  </thead>\n",
       "  <tbody>\n",
       "    <tr>\n",
       "      <th>0</th>\n",
       "      <td>122430</td>\n",
       "      <td>Video: https://youtu.be/z-IwPw5gwD8 Fecha máxi...</td>\n",
       "    </tr>\n",
       "    <tr>\n",
       "      <th>1</th>\n",
       "      <td>69562</td>\n",
       "      <td>1. NEW. Se habilitó el Log para registrar las ...</td>\n",
       "    </tr>\n",
       "    <tr>\n",
       "      <th>2</th>\n",
       "      <td>106534</td>\n",
       "      <td>||||Se realizó un ajuste en el mecanismo de he...</td>\n",
       "    </tr>\n",
       "    <tr>\n",
       "      <th>3</th>\n",
       "      <td>52821</td>\n",
       "      <td>1. New: Se implementó el sistema de autenticac...</td>\n",
       "    </tr>\n",
       "    <tr>\n",
       "      <th>4</th>\n",
       "      <td>110816</td>\n",
       "      <td>||||Se realizaron varios ajustes de seguridad ...</td>\n",
       "    </tr>\n",
       "    <tr>\n",
       "      <th>...</th>\n",
       "      <td>...</td>\n",
       "      <td>...</td>\n",
       "    </tr>\n",
       "    <tr>\n",
       "      <th>146</th>\n",
       "      <td>96955</td>\n",
       "      <td>||||FIX.   Se corrigió el problema de exportac...</td>\n",
       "    </tr>\n",
       "    <tr>\n",
       "      <th>147</th>\n",
       "      <td>97580</td>\n",
       "      <td>||||NEW.  Se reescribió todo el mecanismo comp...</td>\n",
       "    </tr>\n",
       "    <tr>\n",
       "      <th>148</th>\n",
       "      <td>98276</td>\n",
       "      <td>||||NEW. Se creó un mecanismo para cumplir con...</td>\n",
       "    </tr>\n",
       "    <tr>\n",
       "      <th>149</th>\n",
       "      <td>115966</td>\n",
       "      <td>Video:    ||||Ahora es posible utilizar una pá...</td>\n",
       "    </tr>\n",
       "    <tr>\n",
       "      <th>150</th>\n",
       "      <td>108410</td>\n",
       "      <td>||||: Sincronización de cargos y otras columna...</td>\n",
       "    </tr>\n",
       "  </tbody>\n",
       "</table>\n",
       "<p>151 rows × 2 columns</p>\n",
       "</div>"
      ],
      "text/plain": [
       "     source                                              Value\n",
       "0    122430  Video: https://youtu.be/z-IwPw5gwD8 Fecha máxi...\n",
       "1     69562  1. NEW. Se habilitó el Log para registrar las ...\n",
       "2    106534  ||||Se realizó un ajuste en el mecanismo de he...\n",
       "3     52821  1. New: Se implementó el sistema de autenticac...\n",
       "4    110816  ||||Se realizaron varios ajustes de seguridad ...\n",
       "..      ...                                                ...\n",
       "146   96955  ||||FIX.   Se corrigió el problema de exportac...\n",
       "147   97580  ||||NEW.  Se reescribió todo el mecanismo comp...\n",
       "148   98276  ||||NEW. Se creó un mecanismo para cumplir con...\n",
       "149  115966  Video:    ||||Ahora es posible utilizar una pá...\n",
       "150  108410  ||||: Sincronización de cargos y otras columna...\n",
       "\n",
       "[151 rows x 2 columns]"
      ]
     },
     "execution_count": 5,
     "metadata": {},
     "output_type": "execute_result"
    }
   ],
   "source": [
    "import re\n",
    "df['Value'] = df['Value'].apply(lambda x: re.sub(r'(\\w?\\d{1,2}[.:\\s]\\d{1,2}[-:\\s]((fix)|(ft))[-\\s:]?\\d{0,3}[\\w:.]?[\\w:.]?\\s{1,4})', '||||', x, flags=re.IGNORECASE | re.MULTILINE))\n",
    "df"
   ]
  },
  {
   "cell_type": "code",
   "execution_count": 6,
   "metadata": {},
   "outputs": [
    {
     "data": {
      "text/html": [
       "<div>\n",
       "<style scoped>\n",
       "    .dataframe tbody tr th:only-of-type {\n",
       "        vertical-align: middle;\n",
       "    }\n",
       "\n",
       "    .dataframe tbody tr th {\n",
       "        vertical-align: top;\n",
       "    }\n",
       "\n",
       "    .dataframe thead th {\n",
       "        text-align: right;\n",
       "    }\n",
       "</style>\n",
       "<table border=\"1\" class=\"dataframe\">\n",
       "  <thead>\n",
       "    <tr style=\"text-align: right;\">\n",
       "      <th></th>\n",
       "      <th>source</th>\n",
       "      <th>Value</th>\n",
       "    </tr>\n",
       "  </thead>\n",
       "  <tbody>\n",
       "    <tr>\n",
       "      <th>0</th>\n",
       "      <td>122430</td>\n",
       "      <td>Video: https://youtu.be/z-IwPw5gwD8 Fecha máxi...</td>\n",
       "    </tr>\n",
       "    <tr>\n",
       "      <th>1</th>\n",
       "      <td>69562</td>\n",
       "      <td>1. |||| Se habilitó el Log para registrar las ...</td>\n",
       "    </tr>\n",
       "    <tr>\n",
       "      <th>2</th>\n",
       "      <td>106534</td>\n",
       "      <td>||||Se realizó un ajuste en el mecanismo de he...</td>\n",
       "    </tr>\n",
       "    <tr>\n",
       "      <th>3</th>\n",
       "      <td>52821</td>\n",
       "      <td>1. |||| Se implementó el sistema de autenticac...</td>\n",
       "    </tr>\n",
       "    <tr>\n",
       "      <th>4</th>\n",
       "      <td>110816</td>\n",
       "      <td>||||Se realizaron varios ajustes de seguridad ...</td>\n",
       "    </tr>\n",
       "    <tr>\n",
       "      <th>...</th>\n",
       "      <td>...</td>\n",
       "      <td>...</td>\n",
       "    </tr>\n",
       "    <tr>\n",
       "      <th>146</th>\n",
       "      <td>96955</td>\n",
       "      <td>|||||||| Se corrigió el problema de exportació...</td>\n",
       "    </tr>\n",
       "    <tr>\n",
       "      <th>147</th>\n",
       "      <td>97580</td>\n",
       "      <td>|||||||| Se reescribió todo el mecanismo compl...</td>\n",
       "    </tr>\n",
       "    <tr>\n",
       "      <th>148</th>\n",
       "      <td>98276</td>\n",
       "      <td>|||||||| Se creó un mecanismo para cumplir con...</td>\n",
       "    </tr>\n",
       "    <tr>\n",
       "      <th>149</th>\n",
       "      <td>115966</td>\n",
       "      <td>Video:    ||||Ahora es posible utilizar una pá...</td>\n",
       "    </tr>\n",
       "    <tr>\n",
       "      <th>150</th>\n",
       "      <td>108410</td>\n",
       "      <td>||||: Sincronización de cargos y otras columna...</td>\n",
       "    </tr>\n",
       "  </tbody>\n",
       "</table>\n",
       "<p>151 rows × 2 columns</p>\n",
       "</div>"
      ],
      "text/plain": [
       "     source                                              Value\n",
       "0    122430  Video: https://youtu.be/z-IwPw5gwD8 Fecha máxi...\n",
       "1     69562  1. |||| Se habilitó el Log para registrar las ...\n",
       "2    106534  ||||Se realizó un ajuste en el mecanismo de he...\n",
       "3     52821  1. |||| Se implementó el sistema de autenticac...\n",
       "4    110816  ||||Se realizaron varios ajustes de seguridad ...\n",
       "..      ...                                                ...\n",
       "146   96955  |||||||| Se corrigió el problema de exportació...\n",
       "147   97580  |||||||| Se reescribió todo el mecanismo compl...\n",
       "148   98276  |||||||| Se creó un mecanismo para cumplir con...\n",
       "149  115966  Video:    ||||Ahora es posible utilizar una pá...\n",
       "150  108410  ||||: Sincronización de cargos y otras columna...\n",
       "\n",
       "[151 rows x 2 columns]"
      ]
     },
     "execution_count": 6,
     "metadata": {},
     "output_type": "execute_result"
    }
   ],
   "source": [
    "import re\n",
    "df['Value'] = df['Value'].apply(lambda x: re.sub(r'((?<![a-zA-Z])(((fix)|(new)|(Correction))[:.\\s]{0,})(?![a-zA-Z-)(]))', '||||', x, flags=re.IGNORECASE | re.MULTILINE))\n",
    "df"
   ]
  },
  {
   "cell_type": "code",
   "execution_count": 7,
   "metadata": {},
   "outputs": [],
   "source": [
    "import re\n",
    "\n",
    "def split_text_by_regex(row):\n",
    "    # Usar una expresión regular para dividir el texto por saltos de línea o cualquier otro patrón deseado\n",
    "    # \\s* captura cualquier cantidad de espacios en blanco (incluidos los saltos de línea) alrededor del separador\n",
    "    # Puedes ajustar la expresión regular según tus necesidades\n",
    "    \n",
    "    fragments = re.split(r'\\|{4}', row['Value'],  flags=re.IGNORECASE | re.MULTILINE )\n",
    "    # Filtrar líneas vacías o con solo espacios, y quitar espacios adicionales\n",
    "    #fragments = [line.strip() for line in fragments if line.strip()]\n",
    "    fragments = [line.strip() for line in fragments if line is not None and line.strip() and  len(line) > 15 and not re.match(r'((\\d[-.:\\s])|((fix)|(ft)|(new)|(video))[-.:\\s]?)', line, flags=re.IGNORECASE)]\n",
    "\n",
    "    row['Value'] = fragments\n",
    "    #print(fragments)\n",
    "    return row\n",
    "\n",
    "\n"
   ]
  },
  {
   "cell_type": "code",
   "execution_count": 8,
   "metadata": {},
   "outputs": [
    {
     "data": {
      "text/html": [
       "<div>\n",
       "<style scoped>\n",
       "    .dataframe tbody tr th:only-of-type {\n",
       "        vertical-align: middle;\n",
       "    }\n",
       "\n",
       "    .dataframe tbody tr th {\n",
       "        vertical-align: top;\n",
       "    }\n",
       "\n",
       "    .dataframe thead th {\n",
       "        text-align: right;\n",
       "    }\n",
       "</style>\n",
       "<table border=\"1\" class=\"dataframe\">\n",
       "  <thead>\n",
       "    <tr style=\"text-align: right;\">\n",
       "      <th></th>\n",
       "      <th>source</th>\n",
       "      <th>Value</th>\n",
       "    </tr>\n",
       "  </thead>\n",
       "  <tbody>\n",
       "    <tr>\n",
       "      <th>0</th>\n",
       "      <td>122430</td>\n",
       "      <td>Ajustado error cuando se usaban suggest en el ...</td>\n",
       "    </tr>\n",
       "    <tr>\n",
       "      <th>1</th>\n",
       "      <td>122430</td>\n",
       "      <td>Ajustado la funcionalidad del parametro Versio...</td>\n",
       "    </tr>\n",
       "    <tr>\n",
       "      <th>2</th>\n",
       "      <td>122430</td>\n",
       "      <td>Ajustado error que se presentaba al enviar las...</td>\n",
       "    </tr>\n",
       "    <tr>\n",
       "      <th>3</th>\n",
       "      <td>122430</td>\n",
       "      <td>Se ha implementado una nueva funcionalidad que...</td>\n",
       "    </tr>\n",
       "    <tr>\n",
       "      <th>4</th>\n",
       "      <td>122430</td>\n",
       "      <td>Se corrigió un error en las nuevas jerarquías ...</td>\n",
       "    </tr>\n",
       "    <tr>\n",
       "      <th>...</th>\n",
       "      <td>...</td>\n",
       "      <td>...</td>\n",
       "    </tr>\n",
       "    <tr>\n",
       "      <th>1887</th>\n",
       "      <td>108410</td>\n",
       "      <td>Se creó un mecanismo (similar a Swift) para pe...</td>\n",
       "    </tr>\n",
       "    <tr>\n",
       "      <th>1888</th>\n",
       "      <td>108410</td>\n",
       "      <td>UPDATE 2023-06-20</td>\n",
       "    </tr>\n",
       "    <tr>\n",
       "      <th>1889</th>\n",
       "      <td>108410</td>\n",
       "      <td>: Para optimizar el envío de correos de vencim...</td>\n",
       "    </tr>\n",
       "    <tr>\n",
       "      <th>1890</th>\n",
       "      <td>108410</td>\n",
       "      <td>: Se realizó un ajuste en el stored procedure ...</td>\n",
       "    </tr>\n",
       "    <tr>\n",
       "      <th>1891</th>\n",
       "      <td>108410</td>\n",
       "      <td>:  Se ha realizado un ajuste en el método Stor...</td>\n",
       "    </tr>\n",
       "  </tbody>\n",
       "</table>\n",
       "<p>1892 rows × 2 columns</p>\n",
       "</div>"
      ],
      "text/plain": [
       "      source                                              Value\n",
       "0     122430  Ajustado error cuando se usaban suggest en el ...\n",
       "1     122430  Ajustado la funcionalidad del parametro Versio...\n",
       "2     122430  Ajustado error que se presentaba al enviar las...\n",
       "3     122430  Se ha implementado una nueva funcionalidad que...\n",
       "4     122430  Se corrigió un error en las nuevas jerarquías ...\n",
       "...      ...                                                ...\n",
       "1887  108410  Se creó un mecanismo (similar a Swift) para pe...\n",
       "1888  108410                                  UPDATE 2023-06-20\n",
       "1889  108410  : Para optimizar el envío de correos de vencim...\n",
       "1890  108410  : Se realizó un ajuste en el stored procedure ...\n",
       "1891  108410  :  Se ha realizado un ajuste en el método Stor...\n",
       "\n",
       "[1892 rows x 2 columns]"
      ]
     },
     "execution_count": 8,
     "metadata": {},
     "output_type": "execute_result"
    }
   ],
   "source": [
    "# Aplicar la función y expandir el DataFrame\n",
    "df = df.apply(split_text_by_regex, axis=1)\n",
    "df = df.explode('Value').reset_index(drop=True)\n",
    "df"
   ]
  },
  {
   "cell_type": "code",
   "execution_count": 9,
   "metadata": {},
   "outputs": [],
   "source": [
    "from langchain.document_loaders import DataFrameLoader\n",
    "\n",
    "loader = DataFrameLoader(df, page_content_column=\"Value\")\n",
    "data = loader.load()"
   ]
  },
  {
   "cell_type": "code",
   "execution_count": 10,
   "metadata": {},
   "outputs": [
    {
     "name": "stdout",
     "output_type": "stream",
     "text": [
      "[Document(page_content='Ajustado error cuando se usaban suggest en el filtro no traía resultadosPruebas y aplicabilidad: Makro y dónde aplique, se debe probar que al usar en el filtro campos suggest, este retorne los resultados que corresponden al filtro aplicado.', metadata={'source': 122430}),\n",
      " Document(page_content='Ajustado la funcionalidad del parametro VersionChangesMetaDataIdPruebas y aplicabilidad: Ebsa y dónde aplique.', metadata={'source': 122430}),\n",
      " Document(page_content='Ajustado error que se presentaba al enviar las notificaciones para responder encuestas (SURVEYS II). Anteriormente, existía un límite de 12 horas para abrir la encuesta a través del enlace enviado por correo electrónico, después del límite se generaba un error. Pruebas y aplicabilidad: Seguros Mundial. Probar generando encuentas y poder usar el link para responderla despues de doce horas.', metadata={'source': 122430}),\n",
      " Document(page_content=\"Se ha implementado una nueva funcionalidad que permite definir un límite máximo de días entre las fechas seleccionadas para exportar la información de un Tipo de Elemento (ET). Para utilizar esta característica, se debe configurar el feature 'LimitOfDaysBetweenExportDatesForET' por Tipo de Elemento, especificando la cantidad de días máxima permitida.Pruebas y aplicabilidad: Cafam, se debe validar que, cuando se configure el feature, no permita exportar cuando la diferencia de días calendario entre las fechas de inicio y fin en el filtro sea mayor a los configurados o incluso si no se define una fecha en el filtro devuelva un mensaje indicando el motivo por el cual no puede hacer la exportación.\", metadata={'source': 122430}),\n",
      " Document(page_content='Se corrigió un error en las nuevas jerarquías externas', metadata={'source': 122430})]\n"
     ]
    }
   ],
   "source": [
    "from pprint import pprint\n",
    "\n",
    "pprint(data[:5])"
   ]
  },
  {
   "cell_type": "code",
   "execution_count": 11,
   "metadata": {},
   "outputs": [
    {
     "data": {
      "text/plain": [
       "1892"
      ]
     },
     "execution_count": 11,
     "metadata": {},
     "output_type": "execute_result"
    }
   ],
   "source": [
    "len(data)"
   ]
  },
  {
   "cell_type": "code",
   "execution_count": 12,
   "metadata": {},
   "outputs": [],
   "source": [
    "from langchain.text_splitter import RecursiveCharacterTextSplitter\n",
    "\n",
    "text_splitter = RecursiveCharacterTextSplitter(\n",
    "    chunk_size = 500,\n",
    "    length_function=len,\n",
    "    chunk_overlap=100\n",
    ")\n",
    "\n",
    "documents = text_splitter.split_documents(data)"
   ]
  },
  {
   "cell_type": "code",
   "execution_count": 13,
   "metadata": {},
   "outputs": [
    {
     "data": {
      "text/plain": [
       "2525"
      ]
     },
     "execution_count": 13,
     "metadata": {},
     "output_type": "execute_result"
    }
   ],
   "source": [
    "len(documents)"
   ]
  },
  {
   "cell_type": "code",
   "execution_count": 14,
   "metadata": {},
   "outputs": [
    {
     "data": {
      "text/plain": [
       "Document(page_content='Ajustado error cuando se usaban suggest en el filtro no traía resultadosPruebas y aplicabilidad: Makro y dónde aplique, se debe probar que al usar en el filtro campos suggest, este retorne los resultados que corresponden al filtro aplicado.', metadata={'source': 122430})"
      ]
     },
     "execution_count": 14,
     "metadata": {},
     "output_type": "execute_result"
    }
   ],
   "source": [
    "documents[0]"
   ]
  },
  {
   "cell_type": "code",
   "execution_count": 15,
   "metadata": {},
   "outputs": [
    {
     "data": {
      "text/plain": [
       "Document(page_content='Ajustado la funcionalidad del parametro VersionChangesMetaDataIdPruebas y aplicabilidad: Ebsa y dónde aplique.', metadata={'source': 122430})"
      ]
     },
     "execution_count": 15,
     "metadata": {},
     "output_type": "execute_result"
    }
   ],
   "source": [
    "documents[1]"
   ]
  },
  {
   "cell_type": "code",
   "execution_count": 16,
   "metadata": {},
   "outputs": [
    {
     "name": "stderr",
     "output_type": "stream",
     "text": [
      "/home/egarces/chatbot/env/lib/python3.10/site-packages/tqdm/auto.py:21: TqdmWarning: IProgress not found. Please update jupyter and ipywidgets. See https://ipywidgets.readthedocs.io/en/stable/user_install.html\n",
      "  from .autonotebook import tqdm as notebook_tqdm\n"
     ]
    }
   ],
   "source": [
    "from langchain.embeddings import SentenceTransformerEmbeddings\n",
    "\n",
    "embeddings_st = SentenceTransformerEmbeddings(\n",
    "    model_name=\"sentence-transformers/paraphrase-multilingual-MiniLM-L12-v2\"\n",
    ")\n",
    "## Otro modelo en español que podríamos usar es \"symanto/sn-xlm-roberta-base-snli-mnli-anli-xnli\""
   ]
  },
  {
   "cell_type": "code",
   "execution_count": 17,
   "metadata": {},
   "outputs": [],
   "source": [
    "from langchain.vectorstores import Chroma\n",
    "NOMBRE_INDICE_CHROMA = \"../databases/embeddings-public\""
   ]
  },
  {
   "cell_type": "code",
   "execution_count": 18,
   "metadata": {},
   "outputs": [],
   "source": [
    "\n",
    "vectorstore_chroma = Chroma.from_documents(\n",
    "    documents=documents,\n",
    "    embedding=embeddings_st,\n",
    "    persist_directory=NOMBRE_INDICE_CHROMA\n",
    ")"
   ]
  },
  {
   "cell_type": "code",
   "execution_count": 19,
   "metadata": {},
   "outputs": [],
   "source": [
    "vectorstore_chroma.persist()"
   ]
  },
  {
   "cell_type": "code",
   "execution_count": 20,
   "metadata": {},
   "outputs": [],
   "source": [
    "vectorstore_chroma = Chroma(\n",
    "    persist_directory=NOMBRE_INDICE_CHROMA,\n",
    "    embedding_function=embeddings_st\n",
    ")"
   ]
  },
  {
   "cell_type": "code",
   "execution_count": 21,
   "metadata": {},
   "outputs": [],
   "source": [
    "query = \"Cual es el parametro para configurar el nuevo reporte Pivot?\"\n",
    "\n",
    "docs = vectorstore_chroma.similarity_search_with_score(query, k=3)"
   ]
  },
  {
   "cell_type": "code",
   "execution_count": 22,
   "metadata": {},
   "outputs": [
    {
     "data": {
      "text/plain": [
       "[(Document(page_content='(BETA): Nuevo tipo de reportes PIVOT , para configurarlos deje el parámetro UseNewPivotReportVersion en true, y las demás configuraciones habituales en las tablas defaultreport (Por ahora solo es posible mostrar la data, Expórtala a Excel y generar graficas de barra) Pruebas y aplicabilidad. Todas las apps.', metadata={'source': 110816}),\n",
       "  5.054394721984863),\n",
       " (Document(page_content='Es posible que en reportes tipo PIVOT se pueda configurar de tal forma que se puedan abrir los elementos de forma directa, en el último nivel de detalle', metadata={'source': 33608}),\n",
       "  7.683204174041748),\n",
       " (Document(page_content='Se ajustaron los estilos del nuevo reporte pivot, manteniendo los estilos de sense.Pruebas y aplicabilidad. Todas las apps.', metadata={'source': 112932}),\n",
       "  8.664474487304688)]"
      ]
     },
     "execution_count": 22,
     "metadata": {},
     "output_type": "execute_result"
    }
   ],
   "source": [
    "docs"
   ]
  }
 ],
 "metadata": {
  "kernelspec": {
   "display_name": "env",
   "language": "python",
   "name": "python3"
  },
  "language_info": {
   "codemirror_mode": {
    "name": "ipython",
    "version": 3
   },
   "file_extension": ".py",
   "mimetype": "text/x-python",
   "name": "python",
   "nbconvert_exporter": "python",
   "pygments_lexer": "ipython3",
   "version": "3.10.12"
  }
 },
 "nbformat": 4,
 "nbformat_minor": 2
}
