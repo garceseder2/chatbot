{
 "cells": [
  {
   "cell_type": "code",
   "execution_count": 1,
   "metadata": {},
   "outputs": [],
   "source": [
    "import pandas as pd\n",
    "import unicodedata\n"
   ]
  },
  {
   "cell_type": "code",
   "execution_count": 2,
   "metadata": {},
   "outputs": [
    {
     "data": {
      "text/html": [
       "<div>\n",
       "<style scoped>\n",
       "    .dataframe tbody tr th:only-of-type {\n",
       "        vertical-align: middle;\n",
       "    }\n",
       "\n",
       "    .dataframe tbody tr th {\n",
       "        vertical-align: top;\n",
       "    }\n",
       "\n",
       "    .dataframe thead th {\n",
       "        text-align: right;\n",
       "    }\n",
       "</style>\n",
       "<table border=\"1\" class=\"dataframe\">\n",
       "  <thead>\n",
       "    <tr style=\"text-align: right;\">\n",
       "      <th></th>\n",
       "      <th>ElementId</th>\n",
       "      <th>Value</th>\n",
       "    </tr>\n",
       "  </thead>\n",
       "  <tbody>\n",
       "    <tr>\n",
       "      <th>0</th>\n",
       "      <td>122430</td>\n",
       "      <td>Video: https://youtu.be/z-IwPw5gwD8 Fecha máxi...</td>\n",
       "    </tr>\n",
       "    <tr>\n",
       "      <th>1</th>\n",
       "      <td>69562</td>\n",
       "      <td>1. NEW. Se habilitó el Log para registrar las ...</td>\n",
       "    </tr>\n",
       "    <tr>\n",
       "      <th>2</th>\n",
       "      <td>106534</td>\n",
       "      <td>29.6-FIX-01: Se realizó un ajuste en el mecani...</td>\n",
       "    </tr>\n",
       "    <tr>\n",
       "      <th>3</th>\n",
       "      <td>52821</td>\n",
       "      <td>1. New: Se implementó el sistema de autenticac...</td>\n",
       "    </tr>\n",
       "    <tr>\n",
       "      <th>4</th>\n",
       "      <td>110816</td>\n",
       "      <td>30.0-FIX-01: (HRP) Se realizaron varios ajuste...</td>\n",
       "    </tr>\n",
       "    <tr>\n",
       "      <th>...</th>\n",
       "      <td>...</td>\n",
       "      <td>...</td>\n",
       "    </tr>\n",
       "    <tr>\n",
       "      <th>146</th>\n",
       "      <td>96955</td>\n",
       "      <td>R29.1-FIX-01: FIX. (EG) Se corrigió el problem...</td>\n",
       "    </tr>\n",
       "    <tr>\n",
       "      <th>147</th>\n",
       "      <td>97580</td>\n",
       "      <td>R29.2-FT-01: NEW.  Se reescribió todo el mecan...</td>\n",
       "    </tr>\n",
       "    <tr>\n",
       "      <th>148</th>\n",
       "      <td>98276</td>\n",
       "      <td>R29.3-FT-01: NEW. Se creó un mecanismo para cu...</td>\n",
       "    </tr>\n",
       "    <tr>\n",
       "      <th>149</th>\n",
       "      <td>115966</td>\n",
       "      <td>Video:    30.2-FT-01. (HR) Ahora es posible ut...</td>\n",
       "    </tr>\n",
       "    <tr>\n",
       "      <th>150</th>\n",
       "      <td>108410</td>\n",
       "      <td>29.7-FT-01: (EG): Sincronización de cargos y o...</td>\n",
       "    </tr>\n",
       "  </tbody>\n",
       "</table>\n",
       "<p>151 rows × 2 columns</p>\n",
       "</div>"
      ],
      "text/plain": [
       "     ElementId                                              Value\n",
       "0       122430  Video: https://youtu.be/z-IwPw5gwD8 Fecha máxi...\n",
       "1        69562  1. NEW. Se habilitó el Log para registrar las ...\n",
       "2       106534  29.6-FIX-01: Se realizó un ajuste en el mecani...\n",
       "3        52821  1. New: Se implementó el sistema de autenticac...\n",
       "4       110816  30.0-FIX-01: (HRP) Se realizaron varios ajuste...\n",
       "..         ...                                                ...\n",
       "146      96955  R29.1-FIX-01: FIX. (EG) Se corrigió el problem...\n",
       "147      97580  R29.2-FT-01: NEW.  Se reescribió todo el mecan...\n",
       "148      98276  R29.3-FT-01: NEW. Se creó un mecanismo para cu...\n",
       "149     115966  Video:    30.2-FT-01. (HR) Ahora es posible ut...\n",
       "150     108410  29.7-FT-01: (EG): Sincronización de cargos y o...\n",
       "\n",
       "[151 rows x 2 columns]"
      ]
     },
     "execution_count": 2,
     "metadata": {},
     "output_type": "execute_result"
    }
   ],
   "source": [
    "df = pd.read_csv('../data/data.csv', encoding='utf-8')\n",
    "df"
   ]
  },
  {
   "cell_type": "code",
   "execution_count": 3,
   "metadata": {},
   "outputs": [
    {
     "data": {
      "text/html": [
       "<div>\n",
       "<style scoped>\n",
       "    .dataframe tbody tr th:only-of-type {\n",
       "        vertical-align: middle;\n",
       "    }\n",
       "\n",
       "    .dataframe tbody tr th {\n",
       "        vertical-align: top;\n",
       "    }\n",
       "\n",
       "    .dataframe thead th {\n",
       "        text-align: right;\n",
       "    }\n",
       "</style>\n",
       "<table border=\"1\" class=\"dataframe\">\n",
       "  <thead>\n",
       "    <tr style=\"text-align: right;\">\n",
       "      <th></th>\n",
       "      <th>ElementId</th>\n",
       "      <th>Value</th>\n",
       "    </tr>\n",
       "  </thead>\n",
       "  <tbody>\n",
       "    <tr>\n",
       "      <th>0</th>\n",
       "      <td>122430</td>\n",
       "      <td>Video: https://youtu.be/z-IwPw5gwD8 Fecha máxi...</td>\n",
       "    </tr>\n",
       "    <tr>\n",
       "      <th>1</th>\n",
       "      <td>69562</td>\n",
       "      <td>1. NEW. Se habilitó el Log para registrar las ...</td>\n",
       "    </tr>\n",
       "    <tr>\n",
       "      <th>2</th>\n",
       "      <td>106534</td>\n",
       "      <td>29.6-FIX-01: Se realizó un ajuste en el mecani...</td>\n",
       "    </tr>\n",
       "    <tr>\n",
       "      <th>3</th>\n",
       "      <td>52821</td>\n",
       "      <td>1. New: Se implementó el sistema de autenticac...</td>\n",
       "    </tr>\n",
       "    <tr>\n",
       "      <th>4</th>\n",
       "      <td>110816</td>\n",
       "      <td>30.0-FIX-01: (HRP) Se realizaron varios ajuste...</td>\n",
       "    </tr>\n",
       "    <tr>\n",
       "      <th>...</th>\n",
       "      <td>...</td>\n",
       "      <td>...</td>\n",
       "    </tr>\n",
       "    <tr>\n",
       "      <th>146</th>\n",
       "      <td>96955</td>\n",
       "      <td>R29.1-FIX-01: FIX. (EG) Se corrigió el problem...</td>\n",
       "    </tr>\n",
       "    <tr>\n",
       "      <th>147</th>\n",
       "      <td>97580</td>\n",
       "      <td>R29.2-FT-01: NEW.  Se reescribió todo el mecan...</td>\n",
       "    </tr>\n",
       "    <tr>\n",
       "      <th>148</th>\n",
       "      <td>98276</td>\n",
       "      <td>R29.3-FT-01: NEW. Se creó un mecanismo para cu...</td>\n",
       "    </tr>\n",
       "    <tr>\n",
       "      <th>149</th>\n",
       "      <td>115966</td>\n",
       "      <td>Video:    30.2-FT-01. (HR) Ahora es posible ut...</td>\n",
       "    </tr>\n",
       "    <tr>\n",
       "      <th>150</th>\n",
       "      <td>108410</td>\n",
       "      <td>29.7-FT-01: (EG): Sincronización de cargos y o...</td>\n",
       "    </tr>\n",
       "  </tbody>\n",
       "</table>\n",
       "<p>151 rows × 2 columns</p>\n",
       "</div>"
      ],
      "text/plain": [
       "     ElementId                                              Value\n",
       "0       122430  Video: https://youtu.be/z-IwPw5gwD8 Fecha máxi...\n",
       "1        69562  1. NEW. Se habilitó el Log para registrar las ...\n",
       "2       106534  29.6-FIX-01: Se realizó un ajuste en el mecani...\n",
       "3        52821  1. New: Se implementó el sistema de autenticac...\n",
       "4       110816  30.0-FIX-01: (HRP) Se realizaron varios ajuste...\n",
       "..         ...                                                ...\n",
       "146      96955  R29.1-FIX-01: FIX. (EG) Se corrigió el problem...\n",
       "147      97580  R29.2-FT-01: NEW.  Se reescribió todo el mecan...\n",
       "148      98276  R29.3-FT-01: NEW. Se creó un mecanismo para cu...\n",
       "149     115966  Video:    30.2-FT-01. (HR) Ahora es posible ut...\n",
       "150     108410  29.7-FT-01: (EG): Sincronización de cargos y o...\n",
       "\n",
       "[151 rows x 2 columns]"
      ]
     },
     "execution_count": 3,
     "metadata": {},
     "output_type": "execute_result"
    }
   ],
   "source": [
    "df['Value'] = df['Value'].str.replace('\\xa0', ' ')\n",
    "df"
   ]
  },
  {
   "cell_type": "code",
   "execution_count": 4,
   "metadata": {},
   "outputs": [
    {
     "data": {
      "text/html": [
       "<div>\n",
       "<style scoped>\n",
       "    .dataframe tbody tr th:only-of-type {\n",
       "        vertical-align: middle;\n",
       "    }\n",
       "\n",
       "    .dataframe tbody tr th {\n",
       "        vertical-align: top;\n",
       "    }\n",
       "\n",
       "    .dataframe thead th {\n",
       "        text-align: right;\n",
       "    }\n",
       "</style>\n",
       "<table border=\"1\" class=\"dataframe\">\n",
       "  <thead>\n",
       "    <tr style=\"text-align: right;\">\n",
       "      <th></th>\n",
       "      <th>ElementId</th>\n",
       "      <th>Value</th>\n",
       "    </tr>\n",
       "  </thead>\n",
       "  <tbody>\n",
       "    <tr>\n",
       "      <th>0</th>\n",
       "      <td>122430</td>\n",
       "      <td>Video: https://youtu.be/z-IwPw5gwD8 Fecha máxi...</td>\n",
       "    </tr>\n",
       "    <tr>\n",
       "      <th>1</th>\n",
       "      <td>69562</td>\n",
       "      <td>1. NEW. Se habilitó el Log para registrar las ...</td>\n",
       "    </tr>\n",
       "    <tr>\n",
       "      <th>2</th>\n",
       "      <td>106534</td>\n",
       "      <td>29.6-FIX-01: Se realizó un ajuste en el mecani...</td>\n",
       "    </tr>\n",
       "    <tr>\n",
       "      <th>3</th>\n",
       "      <td>52821</td>\n",
       "      <td>1. New: Se implementó el sistema de autenticac...</td>\n",
       "    </tr>\n",
       "    <tr>\n",
       "      <th>4</th>\n",
       "      <td>110816</td>\n",
       "      <td>30.0-FIX-01:   Se realizaron varios ajustes de...</td>\n",
       "    </tr>\n",
       "    <tr>\n",
       "      <th>...</th>\n",
       "      <td>...</td>\n",
       "      <td>...</td>\n",
       "    </tr>\n",
       "    <tr>\n",
       "      <th>146</th>\n",
       "      <td>96955</td>\n",
       "      <td>R29.1-FIX-01: FIX.   Se corrigió el problema d...</td>\n",
       "    </tr>\n",
       "    <tr>\n",
       "      <th>147</th>\n",
       "      <td>97580</td>\n",
       "      <td>R29.2-FT-01: NEW.  Se reescribió todo el mecan...</td>\n",
       "    </tr>\n",
       "    <tr>\n",
       "      <th>148</th>\n",
       "      <td>98276</td>\n",
       "      <td>R29.3-FT-01: NEW. Se creó un mecanismo para cu...</td>\n",
       "    </tr>\n",
       "    <tr>\n",
       "      <th>149</th>\n",
       "      <td>115966</td>\n",
       "      <td>Video:    30.2-FT-01.   Ahora es posible utili...</td>\n",
       "    </tr>\n",
       "    <tr>\n",
       "      <th>150</th>\n",
       "      <td>108410</td>\n",
       "      <td>29.7-FT-01:  : Sincronización de cargos y otra...</td>\n",
       "    </tr>\n",
       "  </tbody>\n",
       "</table>\n",
       "<p>151 rows × 2 columns</p>\n",
       "</div>"
      ],
      "text/plain": [
       "     ElementId                                              Value\n",
       "0       122430  Video: https://youtu.be/z-IwPw5gwD8 Fecha máxi...\n",
       "1        69562  1. NEW. Se habilitó el Log para registrar las ...\n",
       "2       106534  29.6-FIX-01: Se realizó un ajuste en el mecani...\n",
       "3        52821  1. New: Se implementó el sistema de autenticac...\n",
       "4       110816  30.0-FIX-01:   Se realizaron varios ajustes de...\n",
       "..         ...                                                ...\n",
       "146      96955  R29.1-FIX-01: FIX.   Se corrigió el problema d...\n",
       "147      97580  R29.2-FT-01: NEW.  Se reescribió todo el mecan...\n",
       "148      98276  R29.3-FT-01: NEW. Se creó un mecanismo para cu...\n",
       "149     115966  Video:    30.2-FT-01.   Ahora es posible utili...\n",
       "150     108410  29.7-FT-01:  : Sincronización de cargos y otra...\n",
       "\n",
       "[151 rows x 2 columns]"
      ]
     },
     "execution_count": 4,
     "metadata": {},
     "output_type": "execute_result"
    }
   ],
   "source": [
    "import re\n",
    "df['Value'] = df['Value'].apply(lambda x: re.sub(r'(bugs?[:\\s-]?\\d{0,4}:?)|((\\(EG\\))|(\\(HRP?\\))|(\\(CG\\))|(\\(SL\\))|(\\(CM\\)))', ' ', x, flags=re.IGNORECASE | re.MULTILINE))\n",
    "df"
   ]
  },
  {
   "cell_type": "code",
   "execution_count": 5,
   "metadata": {},
   "outputs": [],
   "source": [
    "import re\n",
    "\n",
    "def split_text_by_regex(row):\n",
    "    # Usar una expresión regular para dividir el texto por saltos de línea o cualquier otro patrón deseado\n",
    "    # \\s* captura cualquier cantidad de espacios en blanco (incluidos los saltos de línea) alrededor del separador\n",
    "    # Puedes ajustar la expresión regular según tus necesidades\n",
    "    \n",
    "    fragments = re.split(r'(?<![a-zA-Z])((\\w?\\d{1,2}[.:\\s]\\d{1,2}[-:\\s]((fix)|(ft))[-\\s:]?\\d{0,3}[\\w:.]?[\\w:.]?\\s{1,4})|(((fix)|(new)|(Correction))[:.\\s]{0,}))(?![a-zA-Z])', row['Value'],  flags=re.IGNORECASE | re.MULTILINE)\n",
    "    # Filtrar líneas vacías o con solo espacios, y quitar espacios adicionales\n",
    "    #fragments = [line.strip() for line in fragments if line.strip()]\n",
    "    fragments = [line.strip() for line in fragments if line is not None and line.strip() and  len(line) > 15 and not re.match(r'((\\d[-.:\\s])|((fix)|(ft)|(new)|(video))[-.:\\s]?)', line, flags=re.IGNORECASE)]\n",
    "\n",
    "    row['Value'] = fragments\n",
    "    #print(fragments)\n",
    "    return row\n",
    "\n",
    "\n"
   ]
  },
  {
   "cell_type": "code",
   "execution_count": 6,
   "metadata": {},
   "outputs": [
    {
     "data": {
      "text/html": [
       "<div>\n",
       "<style scoped>\n",
       "    .dataframe tbody tr th:only-of-type {\n",
       "        vertical-align: middle;\n",
       "    }\n",
       "\n",
       "    .dataframe tbody tr th {\n",
       "        vertical-align: top;\n",
       "    }\n",
       "\n",
       "    .dataframe thead th {\n",
       "        text-align: right;\n",
       "    }\n",
       "</style>\n",
       "<table border=\"1\" class=\"dataframe\">\n",
       "  <thead>\n",
       "    <tr style=\"text-align: right;\">\n",
       "      <th></th>\n",
       "      <th>ElementId</th>\n",
       "      <th>Value</th>\n",
       "    </tr>\n",
       "  </thead>\n",
       "  <tbody>\n",
       "    <tr>\n",
       "      <th>0</th>\n",
       "      <td>122430</td>\n",
       "      <td>Ajustado error cuando se usaban suggest en el ...</td>\n",
       "    </tr>\n",
       "    <tr>\n",
       "      <th>1</th>\n",
       "      <td>122430</td>\n",
       "      <td>Ajustado la funcionalidad del parametro Versio...</td>\n",
       "    </tr>\n",
       "    <tr>\n",
       "      <th>2</th>\n",
       "      <td>122430</td>\n",
       "      <td>Ajustado error que se presentaba al enviar las...</td>\n",
       "    </tr>\n",
       "    <tr>\n",
       "      <th>3</th>\n",
       "      <td>122430</td>\n",
       "      <td>Se ha implementado una nueva funcionalidad que...</td>\n",
       "    </tr>\n",
       "    <tr>\n",
       "      <th>4</th>\n",
       "      <td>122430</td>\n",
       "      <td>Se corrigió un error en las nuevas jerarquías ...</td>\n",
       "    </tr>\n",
       "    <tr>\n",
       "      <th>...</th>\n",
       "      <td>...</td>\n",
       "      <td>...</td>\n",
       "    </tr>\n",
       "    <tr>\n",
       "      <th>2077</th>\n",
       "      <td>108410</td>\n",
       "      <td>UPDATE 2023-06-20</td>\n",
       "    </tr>\n",
       "    <tr>\n",
       "      <th>2078</th>\n",
       "      <td>108410</td>\n",
       "      <td>Para optimizar el envío de correos de vencimie...</td>\n",
       "    </tr>\n",
       "    <tr>\n",
       "      <th>2079</th>\n",
       "      <td>108410</td>\n",
       "      <td>Se realizó un ajuste en el stored procedure It...</td>\n",
       "    </tr>\n",
       "    <tr>\n",
       "      <th>2080</th>\n",
       "      <td>108410</td>\n",
       "      <td>Se ha realizado un ajuste en el método StoreSy...</td>\n",
       "    </tr>\n",
       "    <tr>\n",
       "      <th>2081</th>\n",
       "      <td>108410</td>\n",
       "      <td>es, ChangeSet 2945</td>\n",
       "    </tr>\n",
       "  </tbody>\n",
       "</table>\n",
       "<p>2082 rows × 2 columns</p>\n",
       "</div>"
      ],
      "text/plain": [
       "      ElementId                                              Value\n",
       "0        122430  Ajustado error cuando se usaban suggest en el ...\n",
       "1        122430  Ajustado la funcionalidad del parametro Versio...\n",
       "2        122430  Ajustado error que se presentaba al enviar las...\n",
       "3        122430  Se ha implementado una nueva funcionalidad que...\n",
       "4        122430  Se corrigió un error en las nuevas jerarquías ...\n",
       "...         ...                                                ...\n",
       "2077     108410                                  UPDATE 2023-06-20\n",
       "2078     108410  Para optimizar el envío de correos de vencimie...\n",
       "2079     108410  Se realizó un ajuste en el stored procedure It...\n",
       "2080     108410  Se ha realizado un ajuste en el método StoreSy...\n",
       "2081     108410                                 es, ChangeSet 2945\n",
       "\n",
       "[2082 rows x 2 columns]"
      ]
     },
     "execution_count": 6,
     "metadata": {},
     "output_type": "execute_result"
    }
   ],
   "source": [
    "# Aplicar la función y expandir el DataFrame\n",
    "df = df.apply(split_text_by_regex, axis=1)\n",
    "df = df.explode('Value').reset_index(drop=True)\n",
    "df"
   ]
  },
  {
   "cell_type": "code",
   "execution_count": 7,
   "metadata": {},
   "outputs": [],
   "source": [
    "from langchain.document_loaders import DataFrameLoader\n",
    "\n",
    "loader = DataFrameLoader(df, page_content_column=\"Value\")\n",
    "data = loader.load()"
   ]
  },
  {
   "cell_type": "code",
   "execution_count": 8,
   "metadata": {},
   "outputs": [
    {
     "name": "stdout",
     "output_type": "stream",
     "text": [
      "[Document(page_content='Ajustado error cuando se usaban suggest en el filtro no traía resultadosPruebas y aplicabilidad: Makro y dónde aplique, se debe probar que al usar en el filtro campos suggest, este retorne los resultados que corresponden al filtro aplicado.', metadata={'ElementId': 122430}),\n",
      " Document(page_content='Ajustado la funcionalidad del parametro VersionChangesMetaDataIdPruebas y aplicabilidad: Ebsa y dónde aplique.', metadata={'ElementId': 122430}),\n",
      " Document(page_content='Ajustado error que se presentaba al enviar las notificaciones para responder encuestas (SURVEYS II). Anteriormente, existía un límite de 12 horas para abrir la encuesta a través del enlace enviado por correo electrónico, después del límite se generaba un error. Pruebas y aplicabilidad: Seguros Mundial. Probar generando encuentas y poder usar el link para responderla despues de doce horas.', metadata={'ElementId': 122430}),\n",
      " Document(page_content=\"Se ha implementado una nueva funcionalidad que permite definir un límite máximo de días entre las fechas seleccionadas para exportar la información de un Tipo de Elemento (ET). Para utilizar esta característica, se debe configurar el feature 'LimitOfDaysBetweenExportDatesForET' por Tipo de Elemento, especificando la cantidad de días máxima permitida.Pruebas y aplicabilidad: Cafam, se debe validar que, cuando se configure el feature, no permita exportar cuando la diferencia de días calendario entre las fechas de inicio y fin en el filtro sea mayor a los configurados o incluso si no se define una fecha en el filtro devuelva un mensaje indicando el motivo por el cual no puede hacer la exportación.\", metadata={'ElementId': 122430}),\n",
      " Document(page_content='Se corrigió un error en las nuevas jerarquías externas', metadata={'ElementId': 122430})]\n"
     ]
    }
   ],
   "source": [
    "from pprint import pprint\n",
    "\n",
    "pprint(data[:5])"
   ]
  },
  {
   "cell_type": "code",
   "execution_count": 9,
   "metadata": {},
   "outputs": [
    {
     "data": {
      "text/plain": [
       "2082"
      ]
     },
     "execution_count": 9,
     "metadata": {},
     "output_type": "execute_result"
    }
   ],
   "source": [
    "len(data)"
   ]
  },
  {
   "cell_type": "code",
   "execution_count": 10,
   "metadata": {},
   "outputs": [],
   "source": [
    "from langchain.text_splitter import RecursiveCharacterTextSplitter\n",
    "\n",
    "text_splitter = RecursiveCharacterTextSplitter(\n",
    "    chunk_size = 500,\n",
    "    length_function=len,\n",
    "    chunk_overlap=100\n",
    ")\n",
    "\n",
    "documents = text_splitter.split_documents(data)"
   ]
  },
  {
   "cell_type": "code",
   "execution_count": 11,
   "metadata": {},
   "outputs": [
    {
     "data": {
      "text/plain": [
       "2688"
      ]
     },
     "execution_count": 11,
     "metadata": {},
     "output_type": "execute_result"
    }
   ],
   "source": [
    "len(documents)"
   ]
  },
  {
   "cell_type": "code",
   "execution_count": 12,
   "metadata": {},
   "outputs": [
    {
     "data": {
      "text/plain": [
       "Document(page_content='Ajustado error cuando se usaban suggest en el filtro no traía resultadosPruebas y aplicabilidad: Makro y dónde aplique, se debe probar que al usar en el filtro campos suggest, este retorne los resultados que corresponden al filtro aplicado.', metadata={'ElementId': 122430})"
      ]
     },
     "execution_count": 12,
     "metadata": {},
     "output_type": "execute_result"
    }
   ],
   "source": [
    "documents[0]"
   ]
  },
  {
   "cell_type": "code",
   "execution_count": 13,
   "metadata": {},
   "outputs": [
    {
     "data": {
      "text/plain": [
       "Document(page_content='Ajustado la funcionalidad del parametro VersionChangesMetaDataIdPruebas y aplicabilidad: Ebsa y dónde aplique.', metadata={'ElementId': 122430})"
      ]
     },
     "execution_count": 13,
     "metadata": {},
     "output_type": "execute_result"
    }
   ],
   "source": [
    "documents[1]"
   ]
  },
  {
   "cell_type": "code",
   "execution_count": 14,
   "metadata": {},
   "outputs": [
    {
     "name": "stderr",
     "output_type": "stream",
     "text": [
      "/home/egarces/chatbot/env/lib/python3.10/site-packages/tqdm/auto.py:21: TqdmWarning: IProgress not found. Please update jupyter and ipywidgets. See https://ipywidgets.readthedocs.io/en/stable/user_install.html\n",
      "  from .autonotebook import tqdm as notebook_tqdm\n"
     ]
    }
   ],
   "source": [
    "from langchain.embeddings import SentenceTransformerEmbeddings\n",
    "\n",
    "embeddings_st = SentenceTransformerEmbeddings(\n",
    "    model_name=\"sentence-transformers/paraphrase-multilingual-MiniLM-L12-v2\"\n",
    ")\n",
    "## Otro modelo en español que podríamos usar es \"symanto/sn-xlm-roberta-base-snli-mnli-anli-xnli\""
   ]
  },
  {
   "cell_type": "code",
   "execution_count": 15,
   "metadata": {},
   "outputs": [],
   "source": [
    "from langchain.vectorstores import Chroma\n",
    "NOMBRE_INDICE_CHROMA = \"../databases/embeddings-public\""
   ]
  },
  {
   "cell_type": "code",
   "execution_count": 16,
   "metadata": {},
   "outputs": [],
   "source": [
    "\n",
    "vectorstore_chroma = Chroma.from_documents(\n",
    "    documents=documents,\n",
    "    embedding=embeddings_st,\n",
    "    persist_directory=NOMBRE_INDICE_CHROMA\n",
    ")"
   ]
  },
  {
   "cell_type": "code",
   "execution_count": 17,
   "metadata": {},
   "outputs": [],
   "source": [
    "vectorstore_chroma.persist()"
   ]
  },
  {
   "cell_type": "code",
   "execution_count": 18,
   "metadata": {},
   "outputs": [],
   "source": [
    "vectorstore_chroma = Chroma(\n",
    "    persist_directory=NOMBRE_INDICE_CHROMA,\n",
    "    embedding_function=embeddings_st\n",
    ")"
   ]
  },
  {
   "cell_type": "code",
   "execution_count": 19,
   "metadata": {},
   "outputs": [],
   "source": [
    "query = \"Cual es el parametro para configurar el nuevo Pivot?\"\n",
    "\n",
    "docs = vectorstore_chroma.similarity_search_with_score(query, k=10)"
   ]
  },
  {
   "cell_type": "code",
   "execution_count": 20,
   "metadata": {},
   "outputs": [
    {
     "data": {
      "text/plain": [
       "[(Document(page_content='(BETA): Nuevo tipo de reportes PIVOT , para configurarlos deje el parámetro Use', metadata={'ElementId': 110816}),\n",
       "  8.467745780944824),\n",
       " (Document(page_content='Teniendo en cuenta la configuración en', metadata={'ElementId': 115966}),\n",
       "  8.878649710363522),\n",
       " (Document(page_content='Es posible especificar por cada reporte Pivot si cuando el usuario arrastra y suelta campos, el resultado se muestre de forma contraida por defecto. Para esto configure la columna DefaultReport.AutoCollapseAll en true', metadata={'ElementId': 33641}),\n",
       "  9.492097854614258),\n",
       " (Document(page_content='- Se hacen calculados del elemento padre cuando el embebido sufre una modificación. Aplicabilidad y pruebas: ver descripción del  , probar en nuevaEPS.', metadata={'ElementId': 106534}),\n",
       "  9.968347549438477),\n",
       " (Document(page_content='Además, se debe configurar el parámetro ElementQueueBatchSize con el tamaño de lote de creación de elementos por cada ejecución del procesamiento de la cola.  Tenga en cuenta que para poder ejecutar un customlist, se debe crear un registro en la tabla CustomQuery y en la tabla CustomQueryPermission. En la primera tabla, se debe definir la vista que contiene el customquery y en la segunda, quienes tienen permisos para ejecutarla. 3.', metadata={'ElementId': 91219}),\n",
       "  9.99221420288086),\n",
       " (Document(page_content='PivotReportVersion en true, y las demás configuraciones habituales en las tablas defaultreport (Por ahora solo es posible mostrar la data, Expórtala a Excel y generar graficas de barra) Pruebas y aplicabilidad. Todas las apps.', metadata={'ElementId': 110816}),\n",
       "  10.0336332321167),\n",
       " (Document(page_content='ejecutados por el usuaro (entrar con diferentes perfiles de usuario). 5. NUevaEPS: Probar muy bien la consisntencia de las gráficas, tiempos de respuesta. 6. Probar donde aplique (especialmente en Alpopular, EBSA) 7,8. Probar donde aplique, especialmente apps de Jéronimo Martins. 9. En aplicaciones con elementos sin flujo.    UPDATE 2021-12-23', metadata={'ElementId': 91219}),\n",
       "  10.036138534545898),\n",
       " (Document(page_content='estFirst que ya tenía funcionalidad en la aplicación desde v20.0 y que permite que los registros de los embebidos automáticos se adicionen en orden del más nuevo al más antiguo. De la misma forma, se adicionó AutoEmbeddedExistenceCheckStatesFilter que indica un estado (por registro) por el cual se deben filtrar los embebidos a relacionar. Aplicabilidad y pruebas: EFICACIA CD, en el caso en que se utilicen auto-embebidos configurados en la tabla WFTEAutoCreation', metadata={'ElementId': 98276}),\n",
       "  10.093329429626465),\n",
       " (Document(page_content='Es posible usar una interfaz de hoja de cálculo básica, que muestre información de una consulta SP CUSTOM sin parametros. Es una versión inicial y limitada. Para esto utilice la URL Spreadsheet/Render.aspx?S=Custom_XXX donde Custom_XXX es el SP CUSTOM con la información. Algunas características:  Se muestra una hoja tipo excel como la devuelve la consulta. Solo funciona en navegadores HTML5 - full (IE10+, Chrome, FF, Opera) Se pueden usar formulas con el \"=\" y con la convención de coordenadas de', metadata={'ElementId': 33655}),\n",
       "  10.10267448425293),\n",
       " (Document(page_content='es similar a la configuración de herencia de metadatas. Pruebas y aplicabilidad: CAFAM, todas las aplicaciones', metadata={'ElementId': 122430}),\n",
       "  10.175851821899414)]"
      ]
     },
     "execution_count": 20,
     "metadata": {},
     "output_type": "execute_result"
    }
   ],
   "source": [
    "docs"
   ]
  }
 ],
 "metadata": {
  "kernelspec": {
   "display_name": "env",
   "language": "python",
   "name": "python3"
  },
  "language_info": {
   "codemirror_mode": {
    "name": "ipython",
    "version": 3
   },
   "file_extension": ".py",
   "mimetype": "text/x-python",
   "name": "python",
   "nbconvert_exporter": "python",
   "pygments_lexer": "ipython3",
   "version": "3.10.12"
  }
 },
 "nbformat": 4,
 "nbformat_minor": 2
}
