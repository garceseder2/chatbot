{
 "cells": [
  {
   "cell_type": "code",
   "execution_count": 1,
   "metadata": {},
   "outputs": [],
   "source": [
    "import os\n",
    "from langchain_community.vectorstores import Chroma\n",
    "from langchain_community.embeddings import SentenceTransformerEmbeddings\n",
    "from langchain_openai import ChatOpenAI\n",
    "from langchain_community.vectorstores import Chroma\n",
    "from langchain.chains import RetrievalQAWithSourcesChain, ConversationalRetrievalChain, RetrievalQA\n",
    "from rich.console import Console\n"
   ]
  },
  {
   "cell_type": "code",
   "execution_count": 2,
   "metadata": {},
   "outputs": [
    {
     "name": "stdout",
     "output_type": "stream",
     "text": [
      "Starting...\n"
     ]
    },
    {
     "name": "stderr",
     "output_type": "stream",
     "text": [
      "/home/egarces/chatbot/env/lib/python3.10/site-packages/tqdm/auto.py:21: TqdmWarning: IProgress not found. Please update jupyter and ipywidgets. See https://ipywidgets.readthedocs.io/en/stable/user_install.html\n",
      "  from .autonotebook import tqdm as notebook_tqdm\n"
     ]
    },
    {
     "name": "stdout",
     "output_type": "stream",
     "text": [
      "<langchain_community.vectorstores.chroma.Chroma object at 0x7f912512c2e0>\n",
      "[(Document(page_content='(BETA): Nuevo tipo de reportes PIVOT , para configurarlos deje el parámetro UseNewPivotReportVersion en true, y las demás configuraciones habituales en las tablas defaultreport (Por ahora solo es posible mostrar la data, Expórtala a Excel y generar graficas de barra) Pruebas y aplicabilidad. Todas las apps.', metadata={'source': 110816}), 5.054394721984863), (Document(page_content='Es posible que en reportes tipo PIVOT se pueda configurar de tal forma que se puedan abrir los elementos de forma directa, en el último nivel de detalle', metadata={'source': 33608}), 7.683204174041748), (Document(page_content='Se ajustaron los estilos del nuevo reporte pivot, manteniendo los estilos de sense.Pruebas y aplicabilidad. Todas las apps.', metadata={'source': 112932}), 8.664474487304688)]\n",
      "End\n"
     ]
    }
   ],
   "source": [
    "print(\"Starting...\")\n",
    "NOMBRE_INDICE_CHROMA = \"../databases/embeddings-public\"\n",
    "\n",
    "llm_openIA = ChatOpenAI(openai_api_key='', model_name='gpt-3.5-turbo', temperature=0.2, max_tokens=1000)\n",
    "embeddings_st = SentenceTransformerEmbeddings(model_name=\"sentence-transformers/paraphrase-multilingual-MiniLM-L12-v2\")\n",
    "vectorstore_chroma = Chroma(persist_directory=NOMBRE_INDICE_CHROMA, embedding_function=embeddings_st)\n",
    "print(vectorstore_chroma)\n",
    "query = \"Cual es el parametro para configurar el nuevo reporte Pivot?\"\n",
    "\n",
    "docs = vectorstore_chroma.similarity_search_with_score(query, k=3)\n",
    "print(docs)\n",
    "##run_conversation(vectorstore_chroma,\"qa\",llm_openIA)\n",
    "print(\"End\")"
   ]
  }
 ],
 "metadata": {
  "kernelspec": {
   "display_name": "env",
   "language": "python",
   "name": "python3"
  },
  "language_info": {
   "codemirror_mode": {
    "name": "ipython",
    "version": 3
   },
   "file_extension": ".py",
   "mimetype": "text/x-python",
   "name": "python",
   "nbconvert_exporter": "python",
   "pygments_lexer": "ipython3",
   "version": "3.10.12"
  }
 },
 "nbformat": 4,
 "nbformat_minor": 2
}
